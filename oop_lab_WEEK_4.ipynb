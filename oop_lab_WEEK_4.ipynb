{
  "nbformat": 4,
  "nbformat_minor": 0,
  "metadata": {
    "colab": {
      "name": "oop_lab_WEEK-4.ipynb",
      "provenance": [],
      "authorship_tag": "ABX9TyPaKvcexcZMD6AP+iAPPp1W",
      "include_colab_link": true
    },
    "kernelspec": {
      "name": "python3",
      "display_name": "Python 3"
    }
  },
  "cells": [
    {
      "cell_type": "markdown",
      "metadata": {
        "id": "view-in-github",
        "colab_type": "text"
      },
      "source": [
        "<a href=\"https://colab.research.google.com/github/mamun2576/oop_For_python/blob/master/oop_lab_WEEK_4.ipynb\" target=\"_parent\"><img src=\"https://colab.research.google.com/assets/colab-badge.svg\" alt=\"Open In Colab\"/></a>"
      ]
    },
    {
      "cell_type": "markdown",
      "metadata": {
        "id": "Vx_4qZslFPJZ"
      },
      "source": [
        "**Creating list**\n",
        "\n",
        "---\n",
        "\n",
        "\n",
        "\n",
        "---\n",
        "\n"
      ]
    },
    {
      "cell_type": "code",
      "metadata": {
        "id": "HPFGCzI2FWVd",
        "outputId": "4060f9c0-5893-4478-d298-de07bc2762f1",
        "colab": {
          "base_uri": "https://localhost:8080/",
          "height": 68
        }
      },
      "source": [
        "m1=[1,2,3,32,2.23,43.23,\"python\",[2,32,3]]\n",
        "print(m1)\n",
        "m2=[]\n",
        "print(m2)\n",
        "m3=list()\n",
        "print(m3)"
      ],
      "execution_count": null,
      "outputs": [
        {
          "output_type": "stream",
          "text": [
            "[1, 2, 3, 32, 2.23, 43.23, 'python', [2, 32, 3]]\n",
            "[]\n",
            "[]\n"
          ],
          "name": "stdout"
        }
      ]
    },
    {
      "cell_type": "markdown",
      "metadata": {
        "id": "WUoo23tuGrfi"
      },
      "source": [
        "**Iterating list**\n",
        "\n",
        "---\n",
        "\n",
        "\n",
        "\n",
        "---\n",
        "\n"
      ]
    },
    {
      "cell_type": "code",
      "metadata": {
        "id": "X7DFmje9G1P-",
        "outputId": "117c5177-1686-45d6-fc13-b082004e1080",
        "colab": {
          "base_uri": "https://localhost:8080/",
          "height": 34
        }
      },
      "source": [
        "m=[1,2,3,32,2.23,43.23,\"python\",[2,32,3]]\n",
        "for i in m:\n",
        "    print(i,end=' ')\n",
        "print('')"
      ],
      "execution_count": null,
      "outputs": [
        {
          "output_type": "stream",
          "text": [
            "1 2 3 32 2.23 43.23 python [2, 32, 3] \n"
          ],
          "name": "stdout"
        }
      ]
    },
    {
      "cell_type": "markdown",
      "metadata": {
        "id": "g0_mkyErHKhV"
      },
      "source": [
        "**Iterating list**\n",
        "\n",
        "---\n",
        "\n",
        "\n",
        "\n",
        "---\n",
        "\n"
      ]
    },
    {
      "cell_type": "code",
      "metadata": {
        "id": "i_YGXXuzHWhb",
        "outputId": "0784178e-8fd2-4834-b922-6227e63b47f8",
        "colab": {
          "base_uri": "https://localhost:8080/",
          "height": 68
        }
      },
      "source": [
        "m=[1,2,3,32,2.23,43.23,\"python\",[2,32,3]]\n",
        "print(m[2])\n",
        "print(m[6])\n",
        "print(m[-2])\n"
      ],
      "execution_count": null,
      "outputs": [
        {
          "output_type": "stream",
          "text": [
            "3\n",
            "python\n",
            "python\n"
          ],
          "name": "stdout"
        }
      ]
    },
    {
      "cell_type": "markdown",
      "metadata": {
        "id": "T2sGQZ6dIF0M"
      },
      "source": [
        "**List operations**\n",
        "\n",
        "---\n",
        "\n",
        "\n",
        "\n",
        "---\n",
        "\n",
        "\n"
      ]
    },
    {
      "cell_type": "code",
      "metadata": {
        "id": "3eMNuM36IO7T",
        "outputId": "1edd810f-f73c-48b0-b2ba-ec644ad77c70",
        "colab": {
          "base_uri": "https://localhost:8080/",
          "height": 170
        }
      },
      "source": [
        "m1=[1,2,3,32,2.23,43.23,\"python\",[2,32,3]]\n",
        "\n",
        "print(len(m1))                \n",
        "\n",
        "m1.append([12,2,12,2])        \n",
        "print(m1)\n",
        "\n",
        "m1.insert(2,\"pandas\")         \n",
        "print(m1)\n",
        "\n",
        "m1.remove(3)                 \n",
        "print(m1)\n",
        "\n",
        "print(m1.index(\"python\"))     \n",
        "\n",
        "print(m1.count('pandas'))     \n",
        "\n",
        "print(m1.reverse())           \n",
        "\n",
        "m2=m1.copy()                \n",
        "print(m2)\n",
        "\n",
        "m1.clear()                    \n",
        "print(m1)"
      ],
      "execution_count": null,
      "outputs": [
        {
          "output_type": "stream",
          "text": [
            "8\n",
            "[1, 2, 3, 32, 2.23, 43.23, 'python', [2, 32, 3], [12, 2, 12, 2]]\n",
            "[1, 2, 'pandas', 3, 32, 2.23, 43.23, 'python', [2, 32, 3], [12, 2, 12, 2]]\n",
            "[1, 2, 'pandas', 32, 2.23, 43.23, 'python', [2, 32, 3], [12, 2, 12, 2]]\n",
            "6\n",
            "1\n",
            "None\n",
            "[[12, 2, 12, 2], [2, 32, 3], 'python', 43.23, 2.23, 32, 'pandas', 2, 1]\n",
            "[]\n"
          ],
          "name": "stdout"
        }
      ]
    },
    {
      "cell_type": "markdown",
      "metadata": {
        "id": "6w5tUN-8J_W-"
      },
      "source": [
        "**lsit slicing**\n",
        "\n",
        "---\n",
        "\n",
        "\n",
        "\n",
        "---\n",
        "\n"
      ]
    },
    {
      "cell_type": "code",
      "metadata": {
        "id": "pQ-jTo1sKDnF",
        "outputId": "e6955f34-b9c7-4498-9fdc-500e0ba06f06",
        "colab": {
          "base_uri": "https://localhost:8080/",
          "height": 85
        }
      },
      "source": [
        "m=[1,2,3,32,2.23,43.23,\"python\",[2,32,3]]\n",
        "\n",
        "print(m[2:7])\n",
        "print(m[2:])\n",
        "print(m[:5])\n",
        "print(m[:])"
      ],
      "execution_count": null,
      "outputs": [
        {
          "output_type": "stream",
          "text": [
            "[3, 32, 2.23, 43.23, 'python']\n",
            "[3, 32, 2.23, 43.23, 'python', [2, 32, 3]]\n",
            "[1, 2, 3, 32, 2.23]\n",
            "[1, 2, 3, 32, 2.23, 43.23, 'python', [2, 32, 3]]\n"
          ],
          "name": "stdout"
        }
      ]
    },
    {
      "cell_type": "markdown",
      "metadata": {
        "id": "Oyv473DGKg68"
      },
      "source": [
        "**list sorting**\n",
        "\n",
        "---\n",
        "\n",
        "\n",
        "\n",
        "---\n",
        "\n"
      ]
    },
    {
      "cell_type": "code",
      "metadata": {
        "id": "pELimh-CKmFk",
        "outputId": "676872d6-a18a-4774-fb1e-4344c7cc5fae",
        "colab": {
          "base_uri": "https://localhost:8080/",
          "height": 68
        }
      },
      "source": [
        "lst2=[1,2,4,2,4,2,4,2,5,6,7,4]\n",
        "\n",
        "lst3=sorted(lst2)\n",
        "print(lst3)\n",
        "print(lst2)\n",
        "lst2.sort()\n",
        "print(lst2)"
      ],
      "execution_count": null,
      "outputs": [
        {
          "output_type": "stream",
          "text": [
            "[1, 2, 2, 2, 2, 4, 4, 4, 4, 5, 6, 7]\n",
            "[1, 2, 4, 2, 4, 2, 4, 2, 5, 6, 7, 4]\n",
            "[1, 2, 2, 2, 2, 4, 4, 4, 4, 5, 6, 7]\n"
          ],
          "name": "stdout"
        }
      ]
    },
    {
      "cell_type": "markdown",
      "metadata": {
        "id": "PmQlu9qjK1b2"
      },
      "source": [
        "**creating tuple**\n",
        "\n",
        "---\n",
        "\n",
        "\n",
        "\n",
        "---\n",
        "\n"
      ]
    },
    {
      "cell_type": "code",
      "metadata": {
        "id": "ssJFBI52LAaM",
        "outputId": "4a8eeecb-f133-463b-a0a8-ba4542f9bc2e",
        "colab": {
          "base_uri": "https://localhost:8080/",
          "height": 68
        }
      },
      "source": [
        "m=(1,2,3,32,2.23,43.23,\"python\",[2,32,3])\n",
        "print(m)\n",
        "m1=()\n",
        "print(m1)\n",
        "m2=tuple()\n",
        "print(m2)"
      ],
      "execution_count": null,
      "outputs": [
        {
          "output_type": "stream",
          "text": [
            "(1, 2, 3, 32, 2.23, 43.23, 'python', [2, 32, 3])\n",
            "()\n",
            "()\n"
          ],
          "name": "stdout"
        }
      ]
    },
    {
      "cell_type": "markdown",
      "metadata": {
        "id": "1lX1rbbOLRYc"
      },
      "source": [
        "**Iterating tuple**\n",
        "\n",
        "---\n",
        "\n",
        "\n",
        "\n",
        "---\n",
        "\n"
      ]
    },
    {
      "cell_type": "code",
      "metadata": {
        "id": "iHL06QUQLYMk",
        "outputId": "244888c2-2a8d-499f-80be-5f5ddb5434d6",
        "colab": {
          "base_uri": "https://localhost:8080/",
          "height": 34
        }
      },
      "source": [
        "m0=(1,2,3,32,2.23,43.23,\"python\",[2,32,3])\n",
        "for i in m0:\n",
        "    print(i,end=' ')\n",
        "print('')"
      ],
      "execution_count": null,
      "outputs": [
        {
          "output_type": "stream",
          "text": [
            "1 2 3 32 2.23 43.23 python [2, 32, 3] \n"
          ],
          "name": "stdout"
        }
      ]
    },
    {
      "cell_type": "markdown",
      "metadata": {
        "id": "7pGZUK_HMOaE"
      },
      "source": [
        "**Iterating tuple**\n",
        "\n",
        "---\n",
        "\n",
        "\n",
        "\n",
        "---\n",
        "\n"
      ]
    },
    {
      "cell_type": "code",
      "metadata": {
        "id": "4w__MR-XMSxU",
        "outputId": "b2673c79-6bd1-487b-98d7-924d656a92b8",
        "colab": {
          "base_uri": "https://localhost:8080/",
          "height": 68
        }
      },
      "source": [
        "m0=(1,2,3,32,2.23,43.23,\"python\",[2,32,3])\n",
        "print(m0[2])\n",
        "print(m0[6])\n",
        "print(m[-2])\n"
      ],
      "execution_count": null,
      "outputs": [
        {
          "output_type": "stream",
          "text": [
            "3\n",
            "python\n",
            "python\n"
          ],
          "name": "stdout"
        }
      ]
    },
    {
      "cell_type": "markdown",
      "metadata": {
        "id": "lpN_uxtNVOwn"
      },
      "source": [
        "**Inserting into tuple**\n",
        "\n",
        "---\n",
        "\n",
        "\n",
        "\n",
        "---\n",
        "\n"
      ]
    },
    {
      "cell_type": "code",
      "metadata": {
        "id": "LWDDCZDsVVtt",
        "outputId": "55d0597f-da67-481e-be01-b59c2b23e13e",
        "colab": {
          "base_uri": "https://localhost:8080/",
          "height": 34
        }
      },
      "source": [
        "m0=(1,2,3,32,2.23,43.23,\"python\",[2,32,3])\n",
        "m0+=(\"pandas\",232,3,232,3)\n",
        "print(m0)"
      ],
      "execution_count": 14,
      "outputs": [
        {
          "output_type": "stream",
          "text": [
            "(1, 2, 3, 32, 2.23, 43.23, 'python', [2, 32, 3], 'pandas', 232, 3, 232, 3)\n"
          ],
          "name": "stdout"
        }
      ]
    },
    {
      "cell_type": "markdown",
      "metadata": {
        "id": "Z2fOimIRVk2Z"
      },
      "source": [
        "**unpacking sequences**\n",
        "\n",
        "---\n",
        "\n",
        "\n",
        "\n",
        "---\n",
        "\n",
        "\n"
      ]
    },
    {
      "cell_type": "code",
      "metadata": {
        "id": "PzkukrKNVnkQ",
        "outputId": "58eef0d7-34ee-429a-8533-120c1aba97f8",
        "colab": {
          "base_uri": "https://localhost:8080/",
          "height": 85
        }
      },
      "source": [
        "m=[2,3,423,43]\n",
        "a,b,c,d=m\n",
        "print(a)\n",
        "print(b)\n",
        "print(c)\n",
        "print(d)"
      ],
      "execution_count": 15,
      "outputs": [
        {
          "output_type": "stream",
          "text": [
            "2\n",
            "3\n",
            "423\n",
            "43\n"
          ],
          "name": "stdout"
        }
      ]
    },
    {
      "cell_type": "markdown",
      "metadata": {
        "id": "LyicxOZlWjvf"
      },
      "source": [
        "**unpacking sequences**\n",
        "\n",
        "---\n",
        "\n",
        "\n",
        "\n",
        "---\n",
        "\n"
      ]
    },
    {
      "cell_type": "code",
      "metadata": {
        "id": "Pr9VZHA0WneO",
        "outputId": "d8674af1-790a-4a41-b445-7379d2a37efa",
        "colab": {
          "base_uri": "https://localhost:8080/",
          "height": 85
        }
      },
      "source": [
        "m=(2,3,423,43)\n",
        "a,b,c,d=m\n",
        "print(a)\n",
        "print(b)\n",
        "print(c)\n",
        "print(d)"
      ],
      "execution_count": 16,
      "outputs": [
        {
          "output_type": "stream",
          "text": [
            "2\n",
            "3\n",
            "423\n",
            "43\n"
          ],
          "name": "stdout"
        }
      ]
    }
  ]
}