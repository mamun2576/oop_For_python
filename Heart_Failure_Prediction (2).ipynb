{
  "metadata": {
    "kernelspec": {
      "language": "python",
      "display_name": "Python 3",
      "name": "python3"
    },
    "language_info": {
      "pygments_lexer": "ipython3",
      "nbconvert_exporter": "python",
      "version": "3.6.4",
      "file_extension": ".py",
      "codemirror_mode": {
        "name": "ipython",
        "version": 3
      },
      "name": "python",
      "mimetype": "text/x-python"
    },
    "colab": {
      "provenance": []
    }
  },
  "nbformat_minor": 0,
  "nbformat": 4,
  "cells": [
    {
      "cell_type": "code",
      "source": [
        "import warnings\n",
        "warnings.filterwarnings('ignore')\n",
        "\n",
        "import numpy as np\n",
        "import pandas as pd\n",
        "import matplotlib.pyplot as plt\n",
        "import seaborn as sns\n",
        "from sklearn import preprocessing\n",
        "from sklearn.preprocessing import StandardScaler\n",
        "from sklearn.model_selection import train_test_split\n",
        "\n",
        "from sklearn import svm \n",
        "from keras.layers import Dense, BatchNormalization, Dropout, LSTM\n",
        "from keras.models import Sequential\n",
        "from keras import callbacks\n",
        "from sklearn.metrics import precision_score, recall_score, confusion_matrix, classification_report, accuracy_score, f1_score"
      ],
      "metadata": {
        "execution": {
          "iopub.status.busy": "2022-04-17T03:47:32.197516Z",
          "iopub.execute_input": "2022-04-17T03:47:32.198027Z",
          "iopub.status.idle": "2022-04-17T03:47:38.843918Z",
          "shell.execute_reply.started": "2022-04-17T03:47:32.197983Z",
          "shell.execute_reply": "2022-04-17T03:47:38.843029Z"
        },
        "trusted": true,
        "id": "cm_Fw8G2OuYW"
      },
      "execution_count": 1,
      "outputs": []
    },
    {
      "cell_type": "markdown",
      "source": [
        "<a id=\"title-two\"></a>\n",
        "<h1 style='background:#F08080; border:0; border-radius: 10px; color:black'><center>LOADING DATA</center></h1> "
      ],
      "metadata": {
        "id": "X0sQP8tKOuYX"
      }
    },
    {
      "cell_type": "code",
      "source": [
        "from google.colab import drive\n",
        "drive.mount('/content/gdrive')"
      ],
      "metadata": {
        "colab": {
          "base_uri": "https://localhost:8080/"
        },
        "id": "1hX9l6Il_nWj",
        "outputId": "37fbab68-88fb-4266-9b8d-0c64f13a2e8d"
      },
      "execution_count": 2,
      "outputs": [
        {
          "output_type": "stream",
          "name": "stdout",
          "text": [
            "Mounted at /content/gdrive\n"
          ]
        }
      ]
    },
    {
      "cell_type": "code",
      "source": [
        "#loading data\n",
        "data_df = pd.read_csv(\"/content/gdrive/MyDrive/Colab Notebooks/heart_failure_clinical_records_dataset.csv\")\n",
        "data_df.head()"
      ],
      "metadata": {
        "execution": {
          "iopub.status.busy": "2022-04-17T03:47:38.845516Z",
          "iopub.execute_input": "2022-04-17T03:47:38.845733Z",
          "iopub.status.idle": "2022-04-17T03:47:38.887995Z",
          "shell.execute_reply.started": "2022-04-17T03:47:38.845706Z",
          "shell.execute_reply": "2022-04-17T03:47:38.887156Z"
        },
        "trusted": true,
        "colab": {
          "base_uri": "https://localhost:8080/",
          "height": 206
        },
        "id": "7WFh67ADOuYX",
        "outputId": "8d7d2ed5-c13a-4e77-f920-8d717da6fbc0"
      },
      "execution_count": 3,
      "outputs": [
        {
          "output_type": "execute_result",
          "data": {
            "text/plain": [
              "    age  anaemia  creatinine_phosphokinase  diabetes  ejection_fraction  \\\n",
              "0  75.0        0                       582         0                 20   \n",
              "1  55.0        0                      7861         0                 38   \n",
              "2  65.0        0                       146         0                 20   \n",
              "3  50.0        1                       111         0                 20   \n",
              "4  65.0        1                       160         1                 20   \n",
              "\n",
              "   high_blood_pressure  platelets  serum_creatinine  serum_sodium  sex  \\\n",
              "0                    1  265000.00               1.9           130    1   \n",
              "1                    0  263358.03               1.1           136    1   \n",
              "2                    0  162000.00               1.3           129    1   \n",
              "3                    0  210000.00               1.9           137    1   \n",
              "4                    0  327000.00               2.7           116    0   \n",
              "\n",
              "   smoking  time  DEATH_EVENT  \n",
              "0        0     4            1  \n",
              "1        0     6            1  \n",
              "2        1     7            1  \n",
              "3        0     7            1  \n",
              "4        0     8            1  "
            ],
            "text/html": [
              "\n",
              "  <div id=\"df-e0ab2cf9-80ac-4409-987e-4ee4c7211497\">\n",
              "    <div class=\"colab-df-container\">\n",
              "      <div>\n",
              "<style scoped>\n",
              "    .dataframe tbody tr th:only-of-type {\n",
              "        vertical-align: middle;\n",
              "    }\n",
              "\n",
              "    .dataframe tbody tr th {\n",
              "        vertical-align: top;\n",
              "    }\n",
              "\n",
              "    .dataframe thead th {\n",
              "        text-align: right;\n",
              "    }\n",
              "</style>\n",
              "<table border=\"1\" class=\"dataframe\">\n",
              "  <thead>\n",
              "    <tr style=\"text-align: right;\">\n",
              "      <th></th>\n",
              "      <th>age</th>\n",
              "      <th>anaemia</th>\n",
              "      <th>creatinine_phosphokinase</th>\n",
              "      <th>diabetes</th>\n",
              "      <th>ejection_fraction</th>\n",
              "      <th>high_blood_pressure</th>\n",
              "      <th>platelets</th>\n",
              "      <th>serum_creatinine</th>\n",
              "      <th>serum_sodium</th>\n",
              "      <th>sex</th>\n",
              "      <th>smoking</th>\n",
              "      <th>time</th>\n",
              "      <th>DEATH_EVENT</th>\n",
              "    </tr>\n",
              "  </thead>\n",
              "  <tbody>\n",
              "    <tr>\n",
              "      <th>0</th>\n",
              "      <td>75.0</td>\n",
              "      <td>0</td>\n",
              "      <td>582</td>\n",
              "      <td>0</td>\n",
              "      <td>20</td>\n",
              "      <td>1</td>\n",
              "      <td>265000.00</td>\n",
              "      <td>1.9</td>\n",
              "      <td>130</td>\n",
              "      <td>1</td>\n",
              "      <td>0</td>\n",
              "      <td>4</td>\n",
              "      <td>1</td>\n",
              "    </tr>\n",
              "    <tr>\n",
              "      <th>1</th>\n",
              "      <td>55.0</td>\n",
              "      <td>0</td>\n",
              "      <td>7861</td>\n",
              "      <td>0</td>\n",
              "      <td>38</td>\n",
              "      <td>0</td>\n",
              "      <td>263358.03</td>\n",
              "      <td>1.1</td>\n",
              "      <td>136</td>\n",
              "      <td>1</td>\n",
              "      <td>0</td>\n",
              "      <td>6</td>\n",
              "      <td>1</td>\n",
              "    </tr>\n",
              "    <tr>\n",
              "      <th>2</th>\n",
              "      <td>65.0</td>\n",
              "      <td>0</td>\n",
              "      <td>146</td>\n",
              "      <td>0</td>\n",
              "      <td>20</td>\n",
              "      <td>0</td>\n",
              "      <td>162000.00</td>\n",
              "      <td>1.3</td>\n",
              "      <td>129</td>\n",
              "      <td>1</td>\n",
              "      <td>1</td>\n",
              "      <td>7</td>\n",
              "      <td>1</td>\n",
              "    </tr>\n",
              "    <tr>\n",
              "      <th>3</th>\n",
              "      <td>50.0</td>\n",
              "      <td>1</td>\n",
              "      <td>111</td>\n",
              "      <td>0</td>\n",
              "      <td>20</td>\n",
              "      <td>0</td>\n",
              "      <td>210000.00</td>\n",
              "      <td>1.9</td>\n",
              "      <td>137</td>\n",
              "      <td>1</td>\n",
              "      <td>0</td>\n",
              "      <td>7</td>\n",
              "      <td>1</td>\n",
              "    </tr>\n",
              "    <tr>\n",
              "      <th>4</th>\n",
              "      <td>65.0</td>\n",
              "      <td>1</td>\n",
              "      <td>160</td>\n",
              "      <td>1</td>\n",
              "      <td>20</td>\n",
              "      <td>0</td>\n",
              "      <td>327000.00</td>\n",
              "      <td>2.7</td>\n",
              "      <td>116</td>\n",
              "      <td>0</td>\n",
              "      <td>0</td>\n",
              "      <td>8</td>\n",
              "      <td>1</td>\n",
              "    </tr>\n",
              "  </tbody>\n",
              "</table>\n",
              "</div>\n",
              "      <button class=\"colab-df-convert\" onclick=\"convertToInteractive('df-e0ab2cf9-80ac-4409-987e-4ee4c7211497')\"\n",
              "              title=\"Convert this dataframe to an interactive table.\"\n",
              "              style=\"display:none;\">\n",
              "        \n",
              "  <svg xmlns=\"http://www.w3.org/2000/svg\" height=\"24px\"viewBox=\"0 0 24 24\"\n",
              "       width=\"24px\">\n",
              "    <path d=\"M0 0h24v24H0V0z\" fill=\"none\"/>\n",
              "    <path d=\"M18.56 5.44l.94 2.06.94-2.06 2.06-.94-2.06-.94-.94-2.06-.94 2.06-2.06.94zm-11 1L8.5 8.5l.94-2.06 2.06-.94-2.06-.94L8.5 2.5l-.94 2.06-2.06.94zm10 10l.94 2.06.94-2.06 2.06-.94-2.06-.94-.94-2.06-.94 2.06-2.06.94z\"/><path d=\"M17.41 7.96l-1.37-1.37c-.4-.4-.92-.59-1.43-.59-.52 0-1.04.2-1.43.59L10.3 9.45l-7.72 7.72c-.78.78-.78 2.05 0 2.83L4 21.41c.39.39.9.59 1.41.59.51 0 1.02-.2 1.41-.59l7.78-7.78 2.81-2.81c.8-.78.8-2.07 0-2.86zM5.41 20L4 18.59l7.72-7.72 1.47 1.35L5.41 20z\"/>\n",
              "  </svg>\n",
              "      </button>\n",
              "      \n",
              "  <style>\n",
              "    .colab-df-container {\n",
              "      display:flex;\n",
              "      flex-wrap:wrap;\n",
              "      gap: 12px;\n",
              "    }\n",
              "\n",
              "    .colab-df-convert {\n",
              "      background-color: #E8F0FE;\n",
              "      border: none;\n",
              "      border-radius: 50%;\n",
              "      cursor: pointer;\n",
              "      display: none;\n",
              "      fill: #1967D2;\n",
              "      height: 32px;\n",
              "      padding: 0 0 0 0;\n",
              "      width: 32px;\n",
              "    }\n",
              "\n",
              "    .colab-df-convert:hover {\n",
              "      background-color: #E2EBFA;\n",
              "      box-shadow: 0px 1px 2px rgba(60, 64, 67, 0.3), 0px 1px 3px 1px rgba(60, 64, 67, 0.15);\n",
              "      fill: #174EA6;\n",
              "    }\n",
              "\n",
              "    [theme=dark] .colab-df-convert {\n",
              "      background-color: #3B4455;\n",
              "      fill: #D2E3FC;\n",
              "    }\n",
              "\n",
              "    [theme=dark] .colab-df-convert:hover {\n",
              "      background-color: #434B5C;\n",
              "      box-shadow: 0px 1px 3px 1px rgba(0, 0, 0, 0.15);\n",
              "      filter: drop-shadow(0px 1px 2px rgba(0, 0, 0, 0.3));\n",
              "      fill: #FFFFFF;\n",
              "    }\n",
              "  </style>\n",
              "\n",
              "      <script>\n",
              "        const buttonEl =\n",
              "          document.querySelector('#df-e0ab2cf9-80ac-4409-987e-4ee4c7211497 button.colab-df-convert');\n",
              "        buttonEl.style.display =\n",
              "          google.colab.kernel.accessAllowed ? 'block' : 'none';\n",
              "\n",
              "        async function convertToInteractive(key) {\n",
              "          const element = document.querySelector('#df-e0ab2cf9-80ac-4409-987e-4ee4c7211497');\n",
              "          const dataTable =\n",
              "            await google.colab.kernel.invokeFunction('convertToInteractive',\n",
              "                                                     [key], {});\n",
              "          if (!dataTable) return;\n",
              "\n",
              "          const docLinkHtml = 'Like what you see? Visit the ' +\n",
              "            '<a target=\"_blank\" href=https://colab.research.google.com/notebooks/data_table.ipynb>data table notebook</a>'\n",
              "            + ' to learn more about interactive tables.';\n",
              "          element.innerHTML = '';\n",
              "          dataTable['output_type'] = 'display_data';\n",
              "          await google.colab.output.renderOutput(dataTable, element);\n",
              "          const docLink = document.createElement('div');\n",
              "          docLink.innerHTML = docLinkHtml;\n",
              "          element.appendChild(docLink);\n",
              "        }\n",
              "      </script>\n",
              "    </div>\n",
              "  </div>\n",
              "  "
            ]
          },
          "metadata": {},
          "execution_count": 3
        }
      ]
    },
    {
      "cell_type": "markdown",
      "source": [
        "<a id=\"title-three\"></a>\n",
        "<h1 style='background:#F08080; border:0; border-radius: 10px; color:black'><center>DATA ANALYSIS</center></h1>"
      ],
      "metadata": {
        "id": "SXpeX1jDOuYY"
      }
    },
    {
      "cell_type": "code",
      "source": [
        "# Checking for any missing values across the dataset\n",
        "data_df.info()"
      ],
      "metadata": {
        "execution": {
          "iopub.status.busy": "2022-04-17T03:47:38.88941Z",
          "iopub.execute_input": "2022-04-17T03:47:38.889652Z",
          "iopub.status.idle": "2022-04-17T03:47:38.914145Z",
          "shell.execute_reply.started": "2022-04-17T03:47:38.889622Z",
          "shell.execute_reply": "2022-04-17T03:47:38.913438Z"
        },
        "trusted": true,
        "id": "VsiJa6hqOuYY",
        "colab": {
          "base_uri": "https://localhost:8080/"
        },
        "outputId": "fd1779d6-9078-480a-8b12-a4b5e423bfee"
      },
      "execution_count": 4,
      "outputs": [
        {
          "output_type": "stream",
          "name": "stdout",
          "text": [
            "<class 'pandas.core.frame.DataFrame'>\n",
            "RangeIndex: 299 entries, 0 to 298\n",
            "Data columns (total 13 columns):\n",
            " #   Column                    Non-Null Count  Dtype  \n",
            "---  ------                    --------------  -----  \n",
            " 0   age                       299 non-null    float64\n",
            " 1   anaemia                   299 non-null    int64  \n",
            " 2   creatinine_phosphokinase  299 non-null    int64  \n",
            " 3   diabetes                  299 non-null    int64  \n",
            " 4   ejection_fraction         299 non-null    int64  \n",
            " 5   high_blood_pressure       299 non-null    int64  \n",
            " 6   platelets                 299 non-null    float64\n",
            " 7   serum_creatinine          299 non-null    float64\n",
            " 8   serum_sodium              299 non-null    int64  \n",
            " 9   sex                       299 non-null    int64  \n",
            " 10  smoking                   299 non-null    int64  \n",
            " 11  time                      299 non-null    int64  \n",
            " 12  DEATH_EVENT               299 non-null    int64  \n",
            "dtypes: float64(3), int64(10)\n",
            "memory usage: 30.5 KB\n"
          ]
        }
      ]
    },
    {
      "cell_type": "markdown",
      "source": [
        "Outlier Detection and Removal"
      ],
      "metadata": {
        "id": "mZ1BTeBIvqeX"
      }
    },
    {
      "cell_type": "code",
      "source": [
        "def plot_Outlier(var_list):\n",
        "    plt.figure(figsize=(20, 15))\n",
        "    for var in var_list:\n",
        "        plt.subplot(4,4,var_list.index(var)+1)\n",
        "        ax=sns.boxplot(x = data_df[var])   \n",
        "    plt.show()"
      ],
      "metadata": {
        "id": "eEep1nznvri1"
      },
      "execution_count": 5,
      "outputs": []
    },
    {
      "cell_type": "code",
      "source": [
        "plot_Outlier(['age', 'anaemia', 'creatinine_phosphokinase', 'diabetes',\n",
        "       'ejection_fraction', 'high_blood_pressure', 'platelets',\n",
        "       'serum_creatinine', 'serum_sodium', 'sex', 'smoking', 'time',\n",
        "       'DEATH_EVENT'])"
      ],
      "metadata": {
        "colab": {
          "base_uri": "https://localhost:8080/",
          "height": 878
        },
        "id": "wVjAk1Hgvw9n",
        "outputId": "02166fb2-6e22-4c0c-8c76-0ef9ddf13df9"
      },
      "execution_count": 6,
      "outputs": [
        {
          "output_type": "display_data",
          "data": {
            "text/plain": [
              "<Figure size 1440x1080 with 13 Axes>"
            ],
            "image/png": "[encoded data removed]"
          },
          "metadata": {
            "needs_background": "light"
          }
        }
      ]
    },
    {
      "cell_type": "code",
      "source": [
        "#Evaluating the target and finding out the potential skewness in the data\n",
        "cols= [\"#CD5C5C\",\"#FF0000\"]\n",
        "ax = sns.countplot(x= data_df[\"DEATH_EVENT\"], palette= cols)\n"
      ],
      "metadata": {
        "execution": {
          "iopub.status.busy": "2022-04-17T03:47:38.915734Z",
          "iopub.execute_input": "2022-04-17T03:47:38.916522Z",
          "iopub.status.idle": "2022-04-17T03:47:39.092097Z",
          "shell.execute_reply.started": "2022-04-17T03:47:38.916485Z",
          "shell.execute_reply": "2022-04-17T03:47:39.091384Z"
        },
        "trusted": true,
        "id": "_Zoi8RxPOuYZ",
        "colab": {
          "base_uri": "https://localhost:8080/",
          "height": 280
        },
        "outputId": "5f793ff3-d4d8-4022-ea99-1bd852c9a81a"
      },
      "execution_count": 7,
      "outputs": [
        {
          "output_type": "display_data",
          "data": {
            "text/plain": [
              "<Figure size 432x288 with 1 Axes>"
            ],
            "image/png": "[encoded data removed]"
          },
          "metadata": {
            "needs_background": "light"
          }
        }
      ]
    },
    {
      "cell_type": "code",
      "source": [
        "# Doing Univariate Analysis for statistical description and understanding of dispersion of data\n",
        "data_df.describe().T"
      ],
      "metadata": {
        "execution": {
          "iopub.status.busy": "2022-04-17T03:47:39.093652Z",
          "iopub.execute_input": "2022-04-17T03:47:39.094107Z",
          "iopub.status.idle": "2022-04-17T03:47:39.149582Z",
          "shell.execute_reply.started": "2022-04-17T03:47:39.094062Z",
          "shell.execute_reply": "2022-04-17T03:47:39.148768Z"
        },
        "trusted": true,
        "id": "3IJXOwchOuYZ",
        "colab": {
          "base_uri": "https://localhost:8080/",
          "height": 457
        },
        "outputId": "82fd844d-73f6-4407-ed35-bce3ec2e8aa2"
      },
      "execution_count": 8,
      "outputs": [
        {
          "output_type": "execute_result",
          "data": {
            "text/plain": [
              "                          count           mean           std      min  \\\n",
              "age                       299.0      60.833893     11.894809     40.0   \n",
              "anaemia                   299.0       0.431438      0.496107      0.0   \n",
              "creatinine_phosphokinase  299.0     581.839465    970.287881     23.0   \n",
              "diabetes                  299.0       0.418060      0.494067      0.0   \n",
              "ejection_fraction         299.0      38.083612     11.834841     14.0   \n",
              "high_blood_pressure       299.0       0.351171      0.478136      0.0   \n",
              "platelets                 299.0  263358.029264  97804.236869  25100.0   \n",
              "serum_creatinine          299.0       1.393880      1.034510      0.5   \n",
              "serum_sodium              299.0     136.625418      4.412477    113.0   \n",
              "sex                       299.0       0.648829      0.478136      0.0   \n",
              "smoking                   299.0       0.321070      0.467670      0.0   \n",
              "time                      299.0     130.260870     77.614208      4.0   \n",
              "DEATH_EVENT               299.0       0.321070      0.467670      0.0   \n",
              "\n",
              "                               25%       50%       75%       max  \n",
              "age                           51.0      60.0      70.0      95.0  \n",
              "anaemia                        0.0       0.0       1.0       1.0  \n",
              "creatinine_phosphokinase     116.5     250.0     582.0    7861.0  \n",
              "diabetes                       0.0       0.0       1.0       1.0  \n",
              "ejection_fraction             30.0      38.0      45.0      80.0  \n",
              "high_blood_pressure            0.0       0.0       1.0       1.0  \n",
              "platelets                 212500.0  262000.0  303500.0  850000.0  \n",
              "serum_creatinine               0.9       1.1       1.4       9.4  \n",
              "serum_sodium                 134.0     137.0     140.0     148.0  \n",
              "sex                            0.0       1.0       1.0       1.0  \n",
              "smoking                        0.0       0.0       1.0       1.0  \n",
              "time                          73.0     115.0     203.0     285.0  \n",
              "DEATH_EVENT                    0.0       0.0       1.0       1.0  "
            ],
            "text/html": [
              "\n",
              "  <div id=\"df-8f8c1169-8461-4868-8712-34a3b34be592\">\n",
              "    <div class=\"colab-df-container\">\n",
              "      <div>\n",
              "<style scoped>\n",
              "    .dataframe tbody tr th:only-of-type {\n",
              "        vertical-align: middle;\n",
              "    }\n",
              "\n",
              "    .dataframe tbody tr th {\n",
              "        vertical-align: top;\n",
              "    }\n",
              "\n",
              "    .dataframe thead th {\n",
              "        text-align: right;\n",
              "    }\n",
              "</style>\n",
              "<table border=\"1\" class=\"dataframe\">\n",
              "  <thead>\n",
              "    <tr style=\"text-align: right;\">\n",
              "      <th></th>\n",
              "      <th>count</th>\n",
              "      <th>mean</th>\n",
              "      <th>std</th>\n",
              "      <th>min</th>\n",
              "      <th>25%</th>\n",
              "      <th>50%</th>\n",
              "      <th>75%</th>\n",
              "      <th>max</th>\n",
              "    </tr>\n",
              "  </thead>\n",
              "  <tbody>\n",
              "    <tr>\n",
              "      <th>age</th>\n",
              "      <td>299.0</td>\n",
              "      <td>60.833893</td>\n",
              "      <td>11.894809</td>\n",
              "      <td>40.0</td>\n",
              "      <td>51.0</td>\n",
              "      <td>60.0</td>\n",
              "      <td>70.0</td>\n",
              "      <td>95.0</td>\n",
              "    </tr>\n",
              "    <tr>\n",
              "      <th>anaemia</th>\n",
              "      <td>299.0</td>\n",
              "      <td>0.431438</td>\n",
              "      <td>0.496107</td>\n",
              "      <td>0.0</td>\n",
              "      <td>0.0</td>\n",
              "      <td>0.0</td>\n",
              "      <td>1.0</td>\n",
              "      <td>1.0</td>\n",
              "    </tr>\n",
              "    <tr>\n",
              "      <th>creatinine_phosphokinase</th>\n",
              "      <td>299.0</td>\n",
              "      <td>581.839465</td>\n",
              "      <td>970.287881</td>\n",
              "      <td>23.0</td>\n",
              "      <td>116.5</td>\n",
              "      <td>250.0</td>\n",
              "      <td>582.0</td>\n",
              "      <td>7861.0</td>\n",
              "    </tr>\n",
              "    <tr>\n",
              "      <th>diabetes</th>\n",
              "      <td>299.0</td>\n",
              "      <td>0.418060</td>\n",
              "      <td>0.494067</td>\n",
              "      <td>0.0</td>\n",
              "      <td>0.0</td>\n",
              "      <td>0.0</td>\n",
              "      <td>1.0</td>\n",
              "      <td>1.0</td>\n",
              "    </tr>\n",
              "    <tr>\n",
              "      <th>ejection_fraction</th>\n",
              "      <td>299.0</td>\n",
              "      <td>38.083612</td>\n",
              "      <td>11.834841</td>\n",
              "      <td>14.0</td>\n",
              "      <td>30.0</td>\n",
              "      <td>38.0</td>\n",
              "      <td>45.0</td>\n",
              "      <td>80.0</td>\n",
              "    </tr>\n",
              "    <tr>\n",
              "      <th>high_blood_pressure</th>\n",
              "      <td>299.0</td>\n",
              "      <td>0.351171</td>\n",
              "      <td>0.478136</td>\n",
              "      <td>0.0</td>\n",
              "      <td>0.0</td>\n",
              "      <td>0.0</td>\n",
              "      <td>1.0</td>\n",
              "      <td>1.0</td>\n",
              "    </tr>\n",
              "    <tr>\n",
              "      <th>platelets</th>\n",
              "      <td>299.0</td>\n",
              "      <td>263358.029264</td>\n",
              "      <td>97804.236869</td>\n",
              "      <td>25100.0</td>\n",
              "      <td>212500.0</td>\n",
              "      <td>262000.0</td>\n",
              "      <td>303500.0</td>\n",
              "      <td>850000.0</td>\n",
              "    </tr>\n",
              "    <tr>\n",
              "      <th>serum_creatinine</th>\n",
              "      <td>299.0</td>\n",
              "      <td>1.393880</td>\n",
              "      <td>1.034510</td>\n",
              "      <td>0.5</td>\n",
              "      <td>0.9</td>\n",
              "      <td>1.1</td>\n",
              "      <td>1.4</td>\n",
              "      <td>9.4</td>\n",
              "    </tr>\n",
              "    <tr>\n",
              "      <th>serum_sodium</th>\n",
              "      <td>299.0</td>\n",
              "      <td>136.625418</td>\n",
              "      <td>4.412477</td>\n",
              "      <td>113.0</td>\n",
              "      <td>134.0</td>\n",
              "      <td>137.0</td>\n",
              "      <td>140.0</td>\n",
              "      <td>148.0</td>\n",
              "    </tr>\n",
              "    <tr>\n",
              "      <th>sex</th>\n",
              "      <td>299.0</td>\n",
              "      <td>0.648829</td>\n",
              "      <td>0.478136</td>\n",
              "      <td>0.0</td>\n",
              "      <td>0.0</td>\n",
              "      <td>1.0</td>\n",
              "      <td>1.0</td>\n",
              "      <td>1.0</td>\n",
              "    </tr>\n",
              "    <tr>\n",
              "      <th>smoking</th>\n",
              "      <td>299.0</td>\n",
              "      <td>0.321070</td>\n",
              "      <td>0.467670</td>\n",
              "      <td>0.0</td>\n",
              "      <td>0.0</td>\n",
              "      <td>0.0</td>\n",
              "      <td>1.0</td>\n",
              "      <td>1.0</td>\n",
              "    </tr>\n",
              "    <tr>\n",
              "      <th>time</th>\n",
              "      <td>299.0</td>\n",
              "      <td>130.260870</td>\n",
              "      <td>77.614208</td>\n",
              "      <td>4.0</td>\n",
              "      <td>73.0</td>\n",
              "      <td>115.0</td>\n",
              "      <td>203.0</td>\n",
              "      <td>285.0</td>\n",
              "    </tr>\n",
              "    <tr>\n",
              "      <th>DEATH_EVENT</th>\n",
              "      <td>299.0</td>\n",
              "      <td>0.321070</td>\n",
              "      <td>0.467670</td>\n",
              "      <td>0.0</td>\n",
              "      <td>0.0</td>\n",
              "      <td>0.0</td>\n",
              "      <td>1.0</td>\n",
              "      <td>1.0</td>\n",
              "    </tr>\n",
              "  </tbody>\n",
              "</table>\n",
              "</div>\n",
              "      <button class=\"colab-df-convert\" onclick=\"convertToInteractive('df-8f8c1169-8461-4868-8712-34a3b34be592')\"\n",
              "              title=\"Convert this dataframe to an interactive table.\"\n",
              "              style=\"display:none;\">\n",
              "        \n",
              "  <svg xmlns=\"http://www.w3.org/2000/svg\" height=\"24px\"viewBox=\"0 0 24 24\"\n",
              "       width=\"24px\">\n",
              "    <path d=\"M0 0h24v24H0V0z\" fill=\"none\"/>\n",
              "    <path d=\"M18.56 5.44l.94 2.06.94-2.06 2.06-.94-2.06-.94-.94-2.06-.94 2.06-2.06.94zm-11 1L8.5 8.5l.94-2.06 2.06-.94-2.06-.94L8.5 2.5l-.94 2.06-2.06.94zm10 10l.94 2.06.94-2.06 2.06-.94-2.06-.94-.94-2.06-.94 2.06-2.06.94z\"/><path d=\"M17.41 7.96l-1.37-1.37c-.4-.4-.92-.59-1.43-.59-.52 0-1.04.2-1.43.59L10.3 9.45l-7.72 7.72c-.78.78-.78 2.05 0 2.83L4 21.41c.39.39.9.59 1.41.59.51 0 1.02-.2 1.41-.59l7.78-7.78 2.81-2.81c.8-.78.8-2.07 0-2.86zM5.41 20L4 18.59l7.72-7.72 1.47 1.35L5.41 20z\"/>\n",
              "  </svg>\n",
              "      </button>\n",
              "      \n",
              "  <style>\n",
              "    .colab-df-container {\n",
              "      display:flex;\n",
              "      flex-wrap:wrap;\n",
              "      gap: 12px;\n",
              "    }\n",
              "\n",
              "    .colab-df-convert {\n",
              "      background-color: #E8F0FE;\n",
              "      border: none;\n",
              "      border-radius: 50%;\n",
              "      cursor: pointer;\n",
              "      display: none;\n",
              "      fill: #1967D2;\n",
              "      height: 32px;\n",
              "      padding: 0 0 0 0;\n",
              "      width: 32px;\n",
              "    }\n",
              "\n",
              "    .colab-df-convert:hover {\n",
              "      background-color: #E2EBFA;\n",
              "      box-shadow: 0px 1px 2px rgba(60, 64, 67, 0.3), 0px 1px 3px 1px rgba(60, 64, 67, 0.15);\n",
              "      fill: #174EA6;\n",
              "    }\n",
              "\n",
              "    [theme=dark] .colab-df-convert {\n",
              "      background-color: #3B4455;\n",
              "      fill: #D2E3FC;\n",
              "    }\n",
              "\n",
              "    [theme=dark] .colab-df-convert:hover {\n",
              "      background-color: #434B5C;\n",
              "      box-shadow: 0px 1px 3px 1px rgba(0, 0, 0, 0.15);\n",
              "      filter: drop-shadow(0px 1px 2px rgba(0, 0, 0, 0.3));\n",
              "      fill: #FFFFFF;\n",
              "    }\n",
              "  </style>\n",
              "\n",
              "      <script>\n",
              "        const buttonEl =\n",
              "          document.querySelector('#df-8f8c1169-8461-4868-8712-34a3b34be592 button.colab-df-convert');\n",
              "        buttonEl.style.display =\n",
              "          google.colab.kernel.accessAllowed ? 'block' : 'none';\n",
              "\n",
              "        async function convertToInteractive(key) {\n",
              "          const element = document.querySelector('#df-8f8c1169-8461-4868-8712-34a3b34be592');\n",
              "          const dataTable =\n",
              "            await google.colab.kernel.invokeFunction('convertToInteractive',\n",
              "                                                     [key], {});\n",
              "          if (!dataTable) return;\n",
              "\n",
              "          const docLinkHtml = 'Like what you see? Visit the ' +\n",
              "            '<a target=\"_blank\" href=https://colab.research.google.com/notebooks/data_table.ipynb>data table notebook</a>'\n",
              "            + ' to learn more about interactive tables.';\n",
              "          element.innerHTML = '';\n",
              "          dataTable['output_type'] = 'display_data';\n",
              "          await google.colab.output.renderOutput(dataTable, element);\n",
              "          const docLink = document.createElement('div');\n",
              "          docLink.innerHTML = docLinkHtml;\n",
              "          element.appendChild(docLink);\n",
              "        }\n",
              "      </script>\n",
              "    </div>\n",
              "  </div>\n",
              "  "
            ]
          },
          "metadata": {},
          "execution_count": 8
        }
      ]
    },
    {
      "cell_type": "code",
      "source": [
        "#Doing Bivariate Analysis by examaning a corelation matrix of all the features using heatmap\n",
        "cmap = sns.diverging_palette(2, 165, s=80, l=55, n=9)\n",
        "corrmat = data_df.corr()\n",
        "plt.subplots(figsize=(20,20))\n",
        "sns.heatmap(corrmat,cmap= cmap,annot=True, square=True)"
      ],
      "metadata": {
        "execution": {
          "iopub.status.busy": "2022-04-17T03:47:39.150877Z",
          "iopub.execute_input": "2022-04-17T03:47:39.151507Z",
          "iopub.status.idle": "2022-04-17T03:47:40.40235Z",
          "shell.execute_reply.started": "2022-04-17T03:47:39.151468Z",
          "shell.execute_reply": "2022-04-17T03:47:40.401569Z"
        },
        "trusted": true,
        "id": "bADwa65MOuYZ",
        "colab": {
          "base_uri": "https://localhost:8080/",
          "height": 1000
        },
        "outputId": "6447690a-a1a2-40ab-b104-1ade13d4bb14"
      },
      "execution_count": 9,
      "outputs": [
        {
          "output_type": "execute_result",
          "data": {
            "text/plain": [
              "<matplotlib.axes._subplots.AxesSubplot at 0x7f8c9d4c1350>"
            ]
          },
          "metadata": {},
          "execution_count": 9
        },
        {
          "output_type": "display_data",
          "data": {
            "text/plain": [
              "<Figure size 1440x1440 with 2 Axes>"
            ],
            "image/png": "[encoded data removed]"
          },
          "metadata": {
            "needs_background": "light"
          }
        }
      ]
    },
    {
      "cell_type": "code",
      "source": [
        "#Evauating age distribution as per the deaths happened\n",
        "plt.figure(figsize=(15,10))\n",
        "Days_of_week=sns.countplot(x=data_df['age'],data=data_df, hue =\"DEATH_EVENT\",palette = cols)\n",
        "Days_of_week.set_title(\"Distribution Of Age\", color=\"#774571\")"
      ],
      "metadata": {
        "execution": {
          "iopub.status.busy": "2022-04-17T03:47:40.403844Z",
          "iopub.execute_input": "2022-04-17T03:47:40.404303Z",
          "iopub.status.idle": "2022-04-17T03:47:41.26735Z",
          "shell.execute_reply.started": "2022-04-17T03:47:40.404263Z",
          "shell.execute_reply": "2022-04-17T03:47:41.266491Z"
        },
        "trusted": true,
        "id": "m6jZjZCxOuYa",
        "colab": {
          "base_uri": "https://localhost:8080/",
          "height": 638
        },
        "outputId": "a10ed770-b9d4-4060-a837-85eaa126800d"
      },
      "execution_count": 10,
      "outputs": [
        {
          "output_type": "execute_result",
          "data": {
            "text/plain": [
              "Text(0.5, 1.0, 'Distribution Of Age')"
            ]
          },
          "metadata": {},
          "execution_count": 10
        },
        {
          "output_type": "display_data",
          "data": {
            "text/plain": [
              "<Figure size 1080x720 with 1 Axes>"
            ],
            "image/png": "[encoded data removed]"
          },
          "metadata": {
            "needs_background": "light"
          }
        }
      ]
    },
    {
      "cell_type": "code",
      "source": [
        "# Plotting \"Kernel Density Estimation (kde plot)\" of time and age features -  both of which are significant ones. \n",
        "sns.kdeplot(x=data_df[\"time\"], y=data_df[\"age\"], hue =data_df[\"DEATH_EVENT\"], palette=cols)"
      ],
      "metadata": {
        "execution": {
          "iopub.status.busy": "2022-04-17T03:47:44.154722Z",
          "iopub.execute_input": "2022-04-17T03:47:44.154961Z",
          "iopub.status.idle": "2022-04-17T03:47:44.661198Z",
          "shell.execute_reply.started": "2022-04-17T03:47:44.154933Z",
          "shell.execute_reply": "2022-04-17T03:47:44.659745Z"
        },
        "trusted": true,
        "id": "UOPDyMR3OuYa",
        "colab": {
          "base_uri": "https://localhost:8080/",
          "height": 296
        },
        "outputId": "4c68f5d6-e5ad-4ed1-ed82-8312edeb0953"
      },
      "execution_count": 11,
      "outputs": [
        {
          "output_type": "execute_result",
          "data": {
            "text/plain": [
              "<matplotlib.axes._subplots.AxesSubplot at 0x7f8c9da8e190>"
            ]
          },
          "metadata": {},
          "execution_count": 11
        },
        {
          "output_type": "display_data",
          "data": {
            "text/plain": [
              "<Figure size 432x288 with 1 Axes>"
            ],
            "image/png": "[encoded data removed]"
          },
          "metadata": {
            "needs_background": "light"
          }
        }
      ]
    },
    {
      "cell_type": "markdown",
      "source": [
        "<a id=\"title-four\"></a>\n",
        "<h1 style='background:#F08080; border:0; border-radius: 10px; color:black'><center>DATA PREPROCESSING</center></h1>"
      ],
      "metadata": {
        "id": "o6WtilZcOuYb"
      }
    },
    {
      "cell_type": "code",
      "source": [
        "# Defining independent and dependent attributes in training and test sets\n",
        "X=data_df.drop([\"DEATH_EVENT\"],axis=1)\n",
        "y=data_df[\"DEATH_EVENT\"]"
      ],
      "metadata": {
        "execution": {
          "iopub.status.busy": "2022-04-17T03:47:44.663681Z",
          "iopub.execute_input": "2022-04-17T03:47:44.663932Z",
          "iopub.status.idle": "2022-04-17T03:47:44.669048Z",
          "shell.execute_reply.started": "2022-04-17T03:47:44.663902Z",
          "shell.execute_reply": "2022-04-17T03:47:44.668367Z"
        },
        "trusted": true,
        "id": "bp6XE4XFOuYb"
      },
      "execution_count": 12,
      "outputs": []
    },
    {
      "cell_type": "code",
      "source": [
        "# Setting up a standard scaler for the features and analyzing it thereafter\n",
        "col_names = list(X.columns)\n",
        "s_scaler = preprocessing.StandardScaler()\n",
        "X_scaled= s_scaler.fit_transform(X)\n",
        "X_scaled = pd.DataFrame(X_scaled, columns=col_names)   \n",
        "X_scaled.describe().T"
      ],
      "metadata": {
        "execution": {
          "iopub.status.busy": "2022-04-17T03:47:44.670098Z",
          "iopub.execute_input": "2022-04-17T03:47:44.670905Z",
          "iopub.status.idle": "2022-04-17T03:47:44.73326Z",
          "shell.execute_reply.started": "2022-04-17T03:47:44.670872Z",
          "shell.execute_reply": "2022-04-17T03:47:44.732422Z"
        },
        "trusted": true,
        "id": "6b5pDePsOuYb",
        "colab": {
          "base_uri": "https://localhost:8080/",
          "height": 425
        },
        "outputId": "c702862f-bf45-4ffb-8efb-0c1e9c212547"
      },
      "execution_count": 13,
      "outputs": [
        {
          "output_type": "execute_result",
          "data": {
            "text/plain": [
              "                          count          mean       std       min       25%  \\\n",
              "age                       299.0  5.703353e-16  1.001676 -1.754448 -0.828124   \n",
              "anaemia                   299.0  1.009969e-16  1.001676 -0.871105 -0.871105   \n",
              "creatinine_phosphokinase  299.0  0.000000e+00  1.001676 -0.576918 -0.480393   \n",
              "diabetes                  299.0  9.060014e-17  1.001676 -0.847579 -0.847579   \n",
              "ejection_fraction         299.0 -3.267546e-17  1.001676 -2.038387 -0.684180   \n",
              "high_blood_pressure       299.0  0.000000e+00  1.001676 -0.735688 -0.735688   \n",
              "platelets                 299.0  7.723291e-17  1.001676 -2.440155 -0.520870   \n",
              "serum_creatinine          299.0  1.425838e-16  1.001676 -0.865509 -0.478205   \n",
              "serum_sodium              299.0 -8.673849e-16  1.001676 -5.363206 -0.595996   \n",
              "sex                       299.0 -8.911489e-18  1.001676 -1.359272 -1.359272   \n",
              "smoking                   299.0 -1.188199e-17  1.001676 -0.687682 -0.687682   \n",
              "time                      299.0 -1.901118e-16  1.001676 -1.629502 -0.739000   \n",
              "\n",
              "                               50%       75%       max  \n",
              "age                      -0.070223  0.771889  2.877170  \n",
              "anaemia                  -0.871105  1.147968  1.147968  \n",
              "creatinine_phosphokinase -0.342574  0.000166  7.514640  \n",
              "diabetes                 -0.847579  1.179830  1.179830  \n",
              "ejection_fraction        -0.007077  0.585389  3.547716  \n",
              "high_blood_pressure      -0.735688  1.359272  1.359272  \n",
              "platelets                -0.013908  0.411120  6.008180  \n",
              "serum_creatinine         -0.284552  0.005926  7.752020  \n",
              "serum_sodium              0.085034  0.766064  2.582144  \n",
              "sex                       0.735688  0.735688  0.735688  \n",
              "smoking                  -0.687682  1.454161  1.454161  \n",
              "time                     -0.196954  0.938759  1.997038  "
            ],
            "text/html": [
              "\n",
              "  <div id=\"df-ff8bedd1-55f9-4be0-863b-d475684ed400\">\n",
              "    <div class=\"colab-df-container\">\n",
              "      <div>\n",
              "<style scoped>\n",
              "    .dataframe tbody tr th:only-of-type {\n",
              "        vertical-align: middle;\n",
              "    }\n",
              "\n",
              "    .dataframe tbody tr th {\n",
              "        vertical-align: top;\n",
              "    }\n",
              "\n",
              "    .dataframe thead th {\n",
              "        text-align: right;\n",
              "    }\n",
              "</style>\n",
              "<table border=\"1\" class=\"dataframe\">\n",
              "  <thead>\n",
              "    <tr style=\"text-align: right;\">\n",
              "      <th></th>\n",
              "      <th>count</th>\n",
              "      <th>mean</th>\n",
              "      <th>std</th>\n",
              "      <th>min</th>\n",
              "      <th>25%</th>\n",
              "      <th>50%</th>\n",
              "      <th>75%</th>\n",
              "      <th>max</th>\n",
              "    </tr>\n",
              "  </thead>\n",
              "  <tbody>\n",
              "    <tr>\n",
              "      <th>age</th>\n",
              "      <td>299.0</td>\n",
              "      <td>5.703353e-16</td>\n",
              "      <td>1.001676</td>\n",
              "      <td>-1.754448</td>\n",
              "      <td>-0.828124</td>\n",
              "      <td>-0.070223</td>\n",
              "      <td>0.771889</td>\n",
              "      <td>2.877170</td>\n",
              "    </tr>\n",
              "    <tr>\n",
              "      <th>anaemia</th>\n",
              "      <td>299.0</td>\n",
              "      <td>1.009969e-16</td>\n",
              "      <td>1.001676</td>\n",
              "      <td>-0.871105</td>\n",
              "      <td>-0.871105</td>\n",
              "      <td>-0.871105</td>\n",
              "      <td>1.147968</td>\n",
              "      <td>1.147968</td>\n",
              "    </tr>\n",
              "    <tr>\n",
              "      <th>creatinine_phosphokinase</th>\n",
              "      <td>299.0</td>\n",
              "      <td>0.000000e+00</td>\n",
              "      <td>1.001676</td>\n",
              "      <td>-0.576918</td>\n",
              "      <td>-0.480393</td>\n",
              "      <td>-0.342574</td>\n",
              "      <td>0.000166</td>\n",
              "      <td>7.514640</td>\n",
              "    </tr>\n",
              "    <tr>\n",
              "      <th>diabetes</th>\n",
              "      <td>299.0</td>\n",
              "      <td>9.060014e-17</td>\n",
              "      <td>1.001676</td>\n",
              "      <td>-0.847579</td>\n",
              "      <td>-0.847579</td>\n",
              "      <td>-0.847579</td>\n",
              "      <td>1.179830</td>\n",
              "      <td>1.179830</td>\n",
              "    </tr>\n",
              "    <tr>\n",
              "      <th>ejection_fraction</th>\n",
              "      <td>299.0</td>\n",
              "      <td>-3.267546e-17</td>\n",
              "      <td>1.001676</td>\n",
              "      <td>-2.038387</td>\n",
              "      <td>-0.684180</td>\n",
              "      <td>-0.007077</td>\n",
              "      <td>0.585389</td>\n",
              "      <td>3.547716</td>\n",
              "    </tr>\n",
              "    <tr>\n",
              "      <th>high_blood_pressure</th>\n",
              "      <td>299.0</td>\n",
              "      <td>0.000000e+00</td>\n",
              "      <td>1.001676</td>\n",
              "      <td>-0.735688</td>\n",
              "      <td>-0.735688</td>\n",
              "      <td>-0.735688</td>\n",
              "      <td>1.359272</td>\n",
              "      <td>1.359272</td>\n",
              "    </tr>\n",
              "    <tr>\n",
              "      <th>platelets</th>\n",
              "      <td>299.0</td>\n",
              "      <td>7.723291e-17</td>\n",
              "      <td>1.001676</td>\n",
              "      <td>-2.440155</td>\n",
              "      <td>-0.520870</td>\n",
              "      <td>-0.013908</td>\n",
              "      <td>0.411120</td>\n",
              "      <td>6.008180</td>\n",
              "    </tr>\n",
              "    <tr>\n",
              "      <th>serum_creatinine</th>\n",
              "      <td>299.0</td>\n",
              "      <td>1.425838e-16</td>\n",
              "      <td>1.001676</td>\n",
              "      <td>-0.865509</td>\n",
              "      <td>-0.478205</td>\n",
              "      <td>-0.284552</td>\n",
              "      <td>0.005926</td>\n",
              "      <td>7.752020</td>\n",
              "    </tr>\n",
              "    <tr>\n",
              "      <th>serum_sodium</th>\n",
              "      <td>299.0</td>\n",
              "      <td>-8.673849e-16</td>\n",
              "      <td>1.001676</td>\n",
              "      <td>-5.363206</td>\n",
              "      <td>-0.595996</td>\n",
              "      <td>0.085034</td>\n",
              "      <td>0.766064</td>\n",
              "      <td>2.582144</td>\n",
              "    </tr>\n",
              "    <tr>\n",
              "      <th>sex</th>\n",
              "      <td>299.0</td>\n",
              "      <td>-8.911489e-18</td>\n",
              "      <td>1.001676</td>\n",
              "      <td>-1.359272</td>\n",
              "      <td>-1.359272</td>\n",
              "      <td>0.735688</td>\n",
              "      <td>0.735688</td>\n",
              "      <td>0.735688</td>\n",
              "    </tr>\n",
              "    <tr>\n",
              "      <th>smoking</th>\n",
              "      <td>299.0</td>\n",
              "      <td>-1.188199e-17</td>\n",
              "      <td>1.001676</td>\n",
              "      <td>-0.687682</td>\n",
              "      <td>-0.687682</td>\n",
              "      <td>-0.687682</td>\n",
              "      <td>1.454161</td>\n",
              "      <td>1.454161</td>\n",
              "    </tr>\n",
              "    <tr>\n",
              "      <th>time</th>\n",
              "      <td>299.0</td>\n",
              "      <td>-1.901118e-16</td>\n",
              "      <td>1.001676</td>\n",
              "      <td>-1.629502</td>\n",
              "      <td>-0.739000</td>\n",
              "      <td>-0.196954</td>\n",
              "      <td>0.938759</td>\n",
              "      <td>1.997038</td>\n",
              "    </tr>\n",
              "  </tbody>\n",
              "</table>\n",
              "</div>\n",
              "      <button class=\"colab-df-convert\" onclick=\"convertToInteractive('df-ff8bedd1-55f9-4be0-863b-d475684ed400')\"\n",
              "              title=\"Convert this dataframe to an interactive table.\"\n",
              "              style=\"display:none;\">\n",
              "        \n",
              "  <svg xmlns=\"http://www.w3.org/2000/svg\" height=\"24px\"viewBox=\"0 0 24 24\"\n",
              "       width=\"24px\">\n",
              "    <path d=\"M0 0h24v24H0V0z\" fill=\"none\"/>\n",
              "    <path d=\"M18.56 5.44l.94 2.06.94-2.06 2.06-.94-2.06-.94-.94-2.06-.94 2.06-2.06.94zm-11 1L8.5 8.5l.94-2.06 2.06-.94-2.06-.94L8.5 2.5l-.94 2.06-2.06.94zm10 10l.94 2.06.94-2.06 2.06-.94-2.06-.94-.94-2.06-.94 2.06-2.06.94z\"/><path d=\"M17.41 7.96l-1.37-1.37c-.4-.4-.92-.59-1.43-.59-.52 0-1.04.2-1.43.59L10.3 9.45l-7.72 7.72c-.78.78-.78 2.05 0 2.83L4 21.41c.39.39.9.59 1.41.59.51 0 1.02-.2 1.41-.59l7.78-7.78 2.81-2.81c.8-.78.8-2.07 0-2.86zM5.41 20L4 18.59l7.72-7.72 1.47 1.35L5.41 20z\"/>\n",
              "  </svg>\n",
              "      </button>\n",
              "      \n",
              "  <style>\n",
              "    .colab-df-container {\n",
              "      display:flex;\n",
              "      flex-wrap:wrap;\n",
              "      gap: 12px;\n",
              "    }\n",
              "\n",
              "    .colab-df-convert {\n",
              "      background-color: #E8F0FE;\n",
              "      border: none;\n",
              "      border-radius: 50%;\n",
              "      cursor: pointer;\n",
              "      display: none;\n",
              "      fill: #1967D2;\n",
              "      height: 32px;\n",
              "      padding: 0 0 0 0;\n",
              "      width: 32px;\n",
              "    }\n",
              "\n",
              "    .colab-df-convert:hover {\n",
              "      background-color: #E2EBFA;\n",
              "      box-shadow: 0px 1px 2px rgba(60, 64, 67, 0.3), 0px 1px 3px 1px rgba(60, 64, 67, 0.15);\n",
              "      fill: #174EA6;\n",
              "    }\n",
              "\n",
              "    [theme=dark] .colab-df-convert {\n",
              "      background-color: #3B4455;\n",
              "      fill: #D2E3FC;\n",
              "    }\n",
              "\n",
              "    [theme=dark] .colab-df-convert:hover {\n",
              "      background-color: #434B5C;\n",
              "      box-shadow: 0px 1px 3px 1px rgba(0, 0, 0, 0.15);\n",
              "      filter: drop-shadow(0px 1px 2px rgba(0, 0, 0, 0.3));\n",
              "      fill: #FFFFFF;\n",
              "    }\n",
              "  </style>\n",
              "\n",
              "      <script>\n",
              "        const buttonEl =\n",
              "          document.querySelector('#df-ff8bedd1-55f9-4be0-863b-d475684ed400 button.colab-df-convert');\n",
              "        buttonEl.style.display =\n",
              "          google.colab.kernel.accessAllowed ? 'block' : 'none';\n",
              "\n",
              "        async function convertToInteractive(key) {\n",
              "          const element = document.querySelector('#df-ff8bedd1-55f9-4be0-863b-d475684ed400');\n",
              "          const dataTable =\n",
              "            await google.colab.kernel.invokeFunction('convertToInteractive',\n",
              "                                                     [key], {});\n",
              "          if (!dataTable) return;\n",
              "\n",
              "          const docLinkHtml = 'Like what you see? Visit the ' +\n",
              "            '<a target=\"_blank\" href=https://colab.research.google.com/notebooks/data_table.ipynb>data table notebook</a>'\n",
              "            + ' to learn more about interactive tables.';\n",
              "          element.innerHTML = '';\n",
              "          dataTable['output_type'] = 'display_data';\n",
              "          await google.colab.output.renderOutput(dataTable, element);\n",
              "          const docLink = document.createElement('div');\n",
              "          docLink.innerHTML = docLinkHtml;\n",
              "          element.appendChild(docLink);\n",
              "        }\n",
              "      </script>\n",
              "    </div>\n",
              "  </div>\n",
              "  "
            ]
          },
          "metadata": {},
          "execution_count": 13
        }
      ]
    },
    {
      "cell_type": "code",
      "source": [
        "#Plotting the scaled features using boxen plots\n",
        "colors =[\"#CD5C5C\",\"#F08080\",\"#FA8072\",\"#E9967A\",\"#FFA07A\"]\n",
        "plt.figure(figsize=(20,10))\n",
        "sns.boxenplot(data = X_scaled,palette = colors)\n",
        "plt.xticks(rotation=60)\n",
        "plt.show()"
      ],
      "metadata": {
        "execution": {
          "iopub.status.busy": "2022-04-17T03:47:44.734926Z",
          "iopub.execute_input": "2022-04-17T03:47:44.735477Z",
          "iopub.status.idle": "2022-04-17T03:47:45.10562Z",
          "shell.execute_reply.started": "2022-04-17T03:47:44.735435Z",
          "shell.execute_reply": "2022-04-17T03:47:45.104786Z"
        },
        "trusted": true,
        "id": "hKqbFRzUOuYc",
        "colab": {
          "base_uri": "https://localhost:8080/",
          "height": 700
        },
        "outputId": "7c5c6abd-1d83-4fcd-fab8-90a232b9e371"
      },
      "execution_count": 14,
      "outputs": [
        {
          "output_type": "display_data",
          "data": {
            "text/plain": [
              "<Figure size 1440x720 with 1 Axes>"
            ],
            "image/png": "[encoded data removed]"
          },
          "metadata": {
            "needs_background": "light"
          }
        }
      ]
    },
    {
      "cell_type": "code",
      "source": [
        "X = data_df.iloc[:,:-1].values\n",
        "y = data_df.iloc[:,-1].values\n",
        "\n",
        "sc_X = StandardScaler()\n",
        "X = sc_X.fit_transform(X)"
      ],
      "metadata": {
        "id": "TXvoBGG2mJ58"
      },
      "execution_count": 28,
      "outputs": []
    },
    {
      "cell_type": "code",
      "source": [
        "X"
      ],
      "metadata": {
        "colab": {
          "base_uri": "https://localhost:8080/"
        },
        "id": "zHaG2NBOmZAG",
        "outputId": "fad01865-88a0-4b67-a098-e12272cab8c3"
      },
      "execution_count": 29,
      "outputs": [
        {
          "output_type": "execute_result",
          "data": {
            "text/plain": [
              "array([[ 1.19294523e+00, -8.71104775e-01,  1.65728387e-04, ...,\n",
              "         7.35688190e-01, -6.87681906e-01, -1.62950241e+00],\n",
              "       [-4.91279276e-01, -8.71104775e-01,  7.51463953e+00, ...,\n",
              "         7.35688190e-01, -6.87681906e-01, -1.60369074e+00],\n",
              "       [ 3.50832977e-01, -8.71104775e-01, -4.49938761e-01, ...,\n",
              "         7.35688190e-01,  1.45416070e+00, -1.59078490e+00],\n",
              "       ...,\n",
              "       [-1.33339153e+00, -8.71104775e-01,  1.52597865e+00, ...,\n",
              "        -1.35927151e+00, -6.87681906e-01,  1.90669738e+00],\n",
              "       [-1.33339153e+00, -8.71104775e-01,  1.89039811e+00, ...,\n",
              "         7.35688190e-01,  1.45416070e+00,  1.93250906e+00],\n",
              "       [-9.12335403e-01, -8.71104775e-01, -3.98321274e-01, ...,\n",
              "         7.35688190e-01,  1.45416070e+00,  1.99703825e+00]])"
            ]
          },
          "metadata": {},
          "execution_count": 29
        }
      ]
    },
    {
      "cell_type": "code",
      "source": [
        "y"
      ],
      "metadata": {
        "colab": {
          "base_uri": "https://localhost:8080/"
        },
        "id": "THNFcQNHmbAj",
        "outputId": "f5ea378e-172e-4f3d-a037-2727856a3eb3"
      },
      "execution_count": 31,
      "outputs": [
        {
          "output_type": "execute_result",
          "data": {
            "text/plain": [
              "array([1, 1, 1, 1, 1, 1, 1, 1, 1, 1, 1, 1, 1, 1, 0, 1, 1, 1, 1, 1, 0, 1,\n",
              "       1, 0, 1, 1, 1, 1, 1, 1, 1, 1, 1, 0, 1, 1, 1, 1, 0, 1, 1, 1, 1, 0,\n",
              "       1, 1, 1, 1, 1, 1, 1, 1, 1, 1, 1, 1, 0, 0, 1, 1, 1, 1, 0, 1, 0, 1,\n",
              "       1, 1, 1, 1, 0, 0, 1, 0, 1, 1, 0, 0, 0, 0, 0, 0, 1, 0, 1, 0, 0, 0,\n",
              "       0, 0, 0, 0, 0, 1, 0, 0, 0, 0, 0, 0, 0, 0, 0, 0, 0, 1, 0, 0, 0, 0,\n",
              "       1, 0, 0, 1, 0, 0, 0, 0, 0, 1, 0, 0, 0, 0, 1, 0, 1, 0, 0, 0, 0, 0,\n",
              "       0, 0, 0, 0, 0, 0, 0, 0, 1, 0, 0, 0, 1, 0, 0, 0, 1, 0, 1, 0, 0, 0,\n",
              "       0, 0, 0, 0, 0, 0, 0, 0, 0, 1, 1, 1, 0, 1, 0, 0, 0, 0, 0, 0, 0, 0,\n",
              "       0, 0, 0, 0, 0, 1, 1, 1, 1, 1, 1, 1, 0, 0, 0, 0, 0, 0, 1, 1, 0, 0,\n",
              "       0, 0, 0, 0, 0, 0, 0, 0, 0, 0, 0, 0, 0, 0, 0, 1, 0, 0, 0, 1, 0, 0,\n",
              "       1, 0, 0, 0, 0, 0, 0, 0, 0, 0, 1, 0, 0, 0, 0, 0, 0, 0, 0, 0, 0, 0,\n",
              "       0, 0, 0, 0, 1, 0, 0, 0, 0, 0, 0, 0, 0, 0, 0, 0, 0, 0, 0, 0, 1, 0,\n",
              "       0, 0, 1, 0, 0, 0, 0, 0, 0, 0, 0, 0, 0, 0, 0, 0, 0, 0, 0, 0, 0, 0,\n",
              "       0, 0, 0, 0, 0, 0, 0, 0, 0, 0, 0, 0, 0])"
            ]
          },
          "metadata": {},
          "execution_count": 31
        }
      ]
    },
    {
      "cell_type": "code",
      "source": [
        "#spliting variables into training and test sets\n",
        "X_train, X_test, y_train, y_test = train_test_split(X_scaled,y,test_size=0.30,random_state=25)"
      ],
      "metadata": {
        "execution": {
          "iopub.status.busy": "2022-04-17T03:47:45.107325Z",
          "iopub.execute_input": "2022-04-17T03:47:45.107889Z",
          "iopub.status.idle": "2022-04-17T03:47:45.115416Z",
          "shell.execute_reply.started": "2022-04-17T03:47:45.107844Z",
          "shell.execute_reply": "2022-04-17T03:47:45.114293Z"
        },
        "trusted": true,
        "id": "fPIbItctOuYc"
      },
      "execution_count": 73,
      "outputs": []
    },
    {
      "cell_type": "markdown",
      "source": [
        "<a id=\"title-MB\"></a>\n",
        "<h1 style='background:#F08080; border:0; border-radius: 10px; color:black'><center>MODEL BUILDING</center></h1>"
      ],
      "metadata": {
        "id": "3ZI0wu45OuYc"
      }
    },
    {
      "cell_type": "markdown",
      "source": [
        "## <a id = \"title-six\"></a>**<span style=\"color:#CD5C5C;\">2. Artificial Neural Network (ANN) </span>**"
      ],
      "metadata": {
        "id": "_S71UNmPOuYd"
      }
    },
    {
      "cell_type": "code",
      "source": [
        "early_stopping = callbacks.EarlyStopping(\n",
        "    min_delta=0.001, # minimium amount of change to count as an improvement\n",
        "    patience=20, # how many epochs to wait before stopping\n",
        "    restore_best_weights=True)\n",
        "\n",
        "# Initialising the NN\n",
        "model = Sequential()\n",
        "\n",
        "# layers\n",
        "model.add(Dense(units = 16, kernel_initializer = 'uniform', activation = 'relu', input_dim = 12))\n",
        "model.add(Dense(units = 8, kernel_initializer = 'uniform', activation = 'relu'))\n",
        "model.add(Dropout(0.25))\n",
        "model.add(Dense(units = 8, kernel_initializer = 'uniform', activation = 'relu'))\n",
        "model.add(Dropout(0.5))\n",
        "model.add(Dense(units = 1, kernel_initializer = 'uniform', activation = 'sigmoid'))\n",
        "\n",
        "# Compiling the ANN\n",
        "model.compile(optimizer = 'adam', loss = 'binary_crossentropy', metrics = ['accuracy'])\n",
        "\n",
        "# Train the ANN\n",
        "history = model.fit(X_train, y_train, batch_size = 25, epochs = 80,callbacks=[early_stopping], validation_split=0.25)"
      ],
      "metadata": {
        "execution": {
          "iopub.status.busy": "2022-04-17T03:47:45.420441Z",
          "iopub.execute_input": "2022-04-17T03:47:45.420679Z",
          "iopub.status.idle": "2022-04-17T03:47:50.069756Z",
          "shell.execute_reply.started": "2022-04-17T03:47:45.420645Z",
          "shell.execute_reply": "2022-04-17T03:47:50.069114Z"
        },
        "trusted": true,
        "id": "iXdoukcNOuYd",
        "colab": {
          "base_uri": "https://localhost:8080/"
        },
        "outputId": "092e4629-0a79-4edc-dd83-5876a6b7c629"
      },
      "execution_count": 74,
      "outputs": [
        {
          "output_type": "stream",
          "name": "stdout",
          "text": [
            "Epoch 1/80\n",
            "7/7 [==============================] - 1s 33ms/step - loss: 0.6928 - accuracy: 0.6218 - val_loss: 0.6912 - val_accuracy: 0.8302\n",
            "Epoch 2/80\n",
            "7/7 [==============================] - 0s 9ms/step - loss: 0.6920 - accuracy: 0.6346 - val_loss: 0.6891 - val_accuracy: 0.8302\n",
            "Epoch 3/80\n",
            "7/7 [==============================] - 0s 9ms/step - loss: 0.6911 - accuracy: 0.6346 - val_loss: 0.6869 - val_accuracy: 0.8302\n",
            "Epoch 4/80\n",
            "7/7 [==============================] - 0s 9ms/step - loss: 0.6901 - accuracy: 0.6346 - val_loss: 0.6845 - val_accuracy: 0.8302\n",
            "Epoch 5/80\n",
            "7/7 [==============================] - 0s 6ms/step - loss: 0.6893 - accuracy: 0.6346 - val_loss: 0.6820 - val_accuracy: 0.8302\n",
            "Epoch 6/80\n",
            "7/7 [==============================] - 0s 6ms/step - loss: 0.6877 - accuracy: 0.6346 - val_loss: 0.6792 - val_accuracy: 0.8302\n",
            "Epoch 7/80\n",
            "7/7 [==============================] - 0s 6ms/step - loss: 0.6870 - accuracy: 0.6346 - val_loss: 0.6760 - val_accuracy: 0.8302\n",
            "Epoch 8/80\n",
            "7/7 [==============================] - 0s 6ms/step - loss: 0.6847 - accuracy: 0.6346 - val_loss: 0.6721 - val_accuracy: 0.8302\n",
            "Epoch 9/80\n",
            "7/7 [==============================] - 0s 6ms/step - loss: 0.6826 - accuracy: 0.6346 - val_loss: 0.6670 - val_accuracy: 0.8302\n",
            "Epoch 10/80\n",
            "7/7 [==============================] - 0s 7ms/step - loss: 0.6792 - accuracy: 0.6346 - val_loss: 0.6603 - val_accuracy: 0.8302\n",
            "Epoch 11/80\n",
            "7/7 [==============================] - 0s 7ms/step - loss: 0.6768 - accuracy: 0.6346 - val_loss: 0.6523 - val_accuracy: 0.8302\n",
            "Epoch 12/80\n",
            "7/7 [==============================] - 0s 9ms/step - loss: 0.6697 - accuracy: 0.6346 - val_loss: 0.6415 - val_accuracy: 0.8302\n",
            "Epoch 13/80\n",
            "7/7 [==============================] - 0s 10ms/step - loss: 0.6612 - accuracy: 0.6346 - val_loss: 0.6274 - val_accuracy: 0.8302\n",
            "Epoch 14/80\n",
            "7/7 [==============================] - 0s 7ms/step - loss: 0.6506 - accuracy: 0.6346 - val_loss: 0.6112 - val_accuracy: 0.8302\n",
            "Epoch 15/80\n",
            "7/7 [==============================] - 0s 9ms/step - loss: 0.6430 - accuracy: 0.6346 - val_loss: 0.5935 - val_accuracy: 0.8302\n",
            "Epoch 16/80\n",
            "7/7 [==============================] - 0s 6ms/step - loss: 0.6338 - accuracy: 0.6346 - val_loss: 0.5737 - val_accuracy: 0.8302\n",
            "Epoch 17/80\n",
            "7/7 [==============================] - 0s 6ms/step - loss: 0.6051 - accuracy: 0.6346 - val_loss: 0.5487 - val_accuracy: 0.8302\n",
            "Epoch 18/80\n",
            "7/7 [==============================] - 0s 9ms/step - loss: 0.5989 - accuracy: 0.6346 - val_loss: 0.5153 - val_accuracy: 0.8302\n",
            "Epoch 19/80\n",
            "7/7 [==============================] - 0s 8ms/step - loss: 0.5706 - accuracy: 0.6346 - val_loss: 0.4806 - val_accuracy: 0.8302\n",
            "Epoch 20/80\n",
            "7/7 [==============================] - 0s 7ms/step - loss: 0.5465 - accuracy: 0.6346 - val_loss: 0.4490 - val_accuracy: 0.8302\n",
            "Epoch 21/80\n",
            "7/7 [==============================] - 0s 6ms/step - loss: 0.5471 - accuracy: 0.6346 - val_loss: 0.4169 - val_accuracy: 0.8302\n",
            "Epoch 22/80\n",
            "7/7 [==============================] - 0s 6ms/step - loss: 0.5441 - accuracy: 0.6346 - val_loss: 0.3891 - val_accuracy: 0.8302\n",
            "Epoch 23/80\n",
            "7/7 [==============================] - 0s 8ms/step - loss: 0.5087 - accuracy: 0.6346 - val_loss: 0.3660 - val_accuracy: 0.8302\n",
            "Epoch 24/80\n",
            "7/7 [==============================] - 0s 6ms/step - loss: 0.4872 - accuracy: 0.6346 - val_loss: 0.3418 - val_accuracy: 0.8302\n",
            "Epoch 25/80\n",
            "7/7 [==============================] - 0s 6ms/step - loss: 0.5147 - accuracy: 0.6346 - val_loss: 0.3249 - val_accuracy: 0.8302\n",
            "Epoch 26/80\n",
            "7/7 [==============================] - 0s 5ms/step - loss: 0.5049 - accuracy: 0.6346 - val_loss: 0.3148 - val_accuracy: 0.8302\n",
            "Epoch 27/80\n",
            "7/7 [==============================] - 0s 6ms/step - loss: 0.4989 - accuracy: 0.6346 - val_loss: 0.3108 - val_accuracy: 0.8302\n",
            "Epoch 28/80\n",
            "7/7 [==============================] - 0s 6ms/step - loss: 0.5228 - accuracy: 0.6346 - val_loss: 0.3069 - val_accuracy: 0.8302\n",
            "Epoch 29/80\n",
            "7/7 [==============================] - 0s 6ms/step - loss: 0.4887 - accuracy: 0.6346 - val_loss: 0.3028 - val_accuracy: 0.8302\n",
            "Epoch 30/80\n",
            "7/7 [==============================] - 0s 9ms/step - loss: 0.5124 - accuracy: 0.6346 - val_loss: 0.3015 - val_accuracy: 0.8302\n",
            "Epoch 31/80\n",
            "7/7 [==============================] - 0s 6ms/step - loss: 0.4880 - accuracy: 0.6346 - val_loss: 0.3097 - val_accuracy: 0.8302\n",
            "Epoch 32/80\n",
            "7/7 [==============================] - 0s 6ms/step - loss: 0.4711 - accuracy: 0.6346 - val_loss: 0.3104 - val_accuracy: 0.8302\n",
            "Epoch 33/80\n",
            "7/7 [==============================] - 0s 9ms/step - loss: 0.4868 - accuracy: 0.6346 - val_loss: 0.3076 - val_accuracy: 0.8302\n",
            "Epoch 34/80\n",
            "7/7 [==============================] - 0s 9ms/step - loss: 0.4728 - accuracy: 0.6346 - val_loss: 0.3066 - val_accuracy: 0.8302\n",
            "Epoch 35/80\n",
            "7/7 [==============================] - 0s 7ms/step - loss: 0.4867 - accuracy: 0.6346 - val_loss: 0.3053 - val_accuracy: 0.8302\n",
            "Epoch 36/80\n",
            "7/7 [==============================] - 0s 9ms/step - loss: 0.4631 - accuracy: 0.6346 - val_loss: 0.3018 - val_accuracy: 0.8302\n",
            "Epoch 37/80\n",
            "7/7 [==============================] - 0s 9ms/step - loss: 0.4810 - accuracy: 0.6346 - val_loss: 0.3004 - val_accuracy: 0.8302\n",
            "Epoch 38/80\n",
            "7/7 [==============================] - 0s 6ms/step - loss: 0.4726 - accuracy: 0.6346 - val_loss: 0.2965 - val_accuracy: 0.8302\n",
            "Epoch 39/80\n",
            "7/7 [==============================] - 0s 6ms/step - loss: 0.4699 - accuracy: 0.6346 - val_loss: 0.2946 - val_accuracy: 0.8302\n",
            "Epoch 40/80\n",
            "7/7 [==============================] - 0s 6ms/step - loss: 0.4533 - accuracy: 0.6346 - val_loss: 0.2933 - val_accuracy: 0.8302\n",
            "Epoch 41/80\n",
            "7/7 [==============================] - 0s 7ms/step - loss: 0.4655 - accuracy: 0.6346 - val_loss: 0.2919 - val_accuracy: 0.8302\n",
            "Epoch 42/80\n",
            "7/7 [==============================] - 0s 7ms/step - loss: 0.4520 - accuracy: 0.6346 - val_loss: 0.2922 - val_accuracy: 0.8302\n",
            "Epoch 43/80\n",
            "7/7 [==============================] - 0s 7ms/step - loss: 0.4348 - accuracy: 0.6346 - val_loss: 0.2897 - val_accuracy: 0.8302\n",
            "Epoch 44/80\n",
            "7/7 [==============================] - 0s 6ms/step - loss: 0.4667 - accuracy: 0.7756 - val_loss: 0.2897 - val_accuracy: 0.8868\n",
            "Epoch 45/80\n",
            "7/7 [==============================] - 0s 6ms/step - loss: 0.4561 - accuracy: 0.7692 - val_loss: 0.2900 - val_accuracy: 0.8868\n",
            "Epoch 46/80\n",
            "7/7 [==============================] - 0s 8ms/step - loss: 0.4531 - accuracy: 0.7756 - val_loss: 0.2889 - val_accuracy: 0.8868\n",
            "Epoch 47/80\n",
            "7/7 [==============================] - 0s 9ms/step - loss: 0.4575 - accuracy: 0.7756 - val_loss: 0.2889 - val_accuracy: 0.8868\n",
            "Epoch 48/80\n",
            "7/7 [==============================] - 0s 6ms/step - loss: 0.4496 - accuracy: 0.8013 - val_loss: 0.2889 - val_accuracy: 0.8868\n",
            "Epoch 49/80\n",
            "7/7 [==============================] - 0s 6ms/step - loss: 0.4208 - accuracy: 0.8077 - val_loss: 0.2874 - val_accuracy: 0.9057\n",
            "Epoch 50/80\n",
            "7/7 [==============================] - 0s 6ms/step - loss: 0.4340 - accuracy: 0.8205 - val_loss: 0.2862 - val_accuracy: 0.9057\n",
            "Epoch 51/80\n",
            "7/7 [==============================] - 0s 6ms/step - loss: 0.4266 - accuracy: 0.8013 - val_loss: 0.2857 - val_accuracy: 0.9057\n",
            "Epoch 52/80\n",
            "7/7 [==============================] - 0s 9ms/step - loss: 0.4280 - accuracy: 0.8141 - val_loss: 0.2857 - val_accuracy: 0.8868\n",
            "Epoch 53/80\n",
            "7/7 [==============================] - 0s 10ms/step - loss: 0.4201 - accuracy: 0.8397 - val_loss: 0.2831 - val_accuracy: 0.8868\n",
            "Epoch 54/80\n",
            "7/7 [==============================] - 0s 6ms/step - loss: 0.4523 - accuracy: 0.8077 - val_loss: 0.2836 - val_accuracy: 0.8868\n",
            "Epoch 55/80\n",
            "7/7 [==============================] - 0s 9ms/step - loss: 0.4143 - accuracy: 0.8462 - val_loss: 0.2846 - val_accuracy: 0.8868\n",
            "Epoch 56/80\n",
            "7/7 [==============================] - 0s 7ms/step - loss: 0.4364 - accuracy: 0.8205 - val_loss: 0.2843 - val_accuracy: 0.8868\n",
            "Epoch 57/80\n",
            "7/7 [==============================] - 0s 6ms/step - loss: 0.4294 - accuracy: 0.8141 - val_loss: 0.2838 - val_accuracy: 0.8868\n",
            "Epoch 58/80\n",
            "7/7 [==============================] - 0s 5ms/step - loss: 0.4288 - accuracy: 0.8333 - val_loss: 0.2861 - val_accuracy: 0.8868\n",
            "Epoch 59/80\n",
            "7/7 [==============================] - 0s 5ms/step - loss: 0.4172 - accuracy: 0.8333 - val_loss: 0.2850 - val_accuracy: 0.8868\n",
            "Epoch 60/80\n",
            "7/7 [==============================] - 0s 6ms/step - loss: 0.4189 - accuracy: 0.8462 - val_loss: 0.2824 - val_accuracy: 0.8868\n",
            "Epoch 61/80\n",
            "7/7 [==============================] - 0s 6ms/step - loss: 0.4103 - accuracy: 0.8269 - val_loss: 0.2839 - val_accuracy: 0.8868\n",
            "Epoch 62/80\n",
            "7/7 [==============================] - 0s 7ms/step - loss: 0.4070 - accuracy: 0.8462 - val_loss: 0.2824 - val_accuracy: 0.8868\n",
            "Epoch 63/80\n",
            "7/7 [==============================] - 0s 6ms/step - loss: 0.4221 - accuracy: 0.8462 - val_loss: 0.2863 - val_accuracy: 0.8868\n",
            "Epoch 64/80\n",
            "7/7 [==============================] - 0s 6ms/step - loss: 0.4286 - accuracy: 0.8077 - val_loss: 0.2872 - val_accuracy: 0.8868\n",
            "Epoch 65/80\n",
            "7/7 [==============================] - 0s 6ms/step - loss: 0.4036 - accuracy: 0.8333 - val_loss: 0.2852 - val_accuracy: 0.8679\n",
            "Epoch 66/80\n",
            "7/7 [==============================] - 0s 6ms/step - loss: 0.4196 - accuracy: 0.8205 - val_loss: 0.2823 - val_accuracy: 0.8679\n",
            "Epoch 67/80\n",
            "7/7 [==============================] - 0s 8ms/step - loss: 0.3979 - accuracy: 0.8526 - val_loss: 0.2831 - val_accuracy: 0.8679\n",
            "Epoch 68/80\n",
            "7/7 [==============================] - 0s 6ms/step - loss: 0.4014 - accuracy: 0.8590 - val_loss: 0.2855 - val_accuracy: 0.8868\n",
            "Epoch 69/80\n",
            "7/7 [==============================] - 0s 6ms/step - loss: 0.4121 - accuracy: 0.8526 - val_loss: 0.2893 - val_accuracy: 0.8868\n",
            "Epoch 70/80\n",
            "7/7 [==============================] - 0s 6ms/step - loss: 0.4119 - accuracy: 0.8141 - val_loss: 0.2881 - val_accuracy: 0.8868\n",
            "Epoch 71/80\n",
            "7/7 [==============================] - 0s 9ms/step - loss: 0.3998 - accuracy: 0.8462 - val_loss: 0.2847 - val_accuracy: 0.8868\n",
            "Epoch 72/80\n",
            "7/7 [==============================] - 0s 6ms/step - loss: 0.3844 - accuracy: 0.8526 - val_loss: 0.2810 - val_accuracy: 0.8679\n",
            "Epoch 73/80\n",
            "7/7 [==============================] - 0s 6ms/step - loss: 0.4051 - accuracy: 0.8397 - val_loss: 0.2796 - val_accuracy: 0.8679\n",
            "Epoch 74/80\n",
            "7/7 [==============================] - 0s 6ms/step - loss: 0.3747 - accuracy: 0.8526 - val_loss: 0.2794 - val_accuracy: 0.8868\n",
            "Epoch 75/80\n",
            "7/7 [==============================] - 0s 6ms/step - loss: 0.3794 - accuracy: 0.8654 - val_loss: 0.2795 - val_accuracy: 0.8868\n",
            "Epoch 76/80\n",
            "7/7 [==============================] - 0s 6ms/step - loss: 0.3836 - accuracy: 0.8333 - val_loss: 0.2787 - val_accuracy: 0.8868\n",
            "Epoch 77/80\n",
            "7/7 [==============================] - 0s 6ms/step - loss: 0.3895 - accuracy: 0.8590 - val_loss: 0.2811 - val_accuracy: 0.8868\n",
            "Epoch 78/80\n",
            "7/7 [==============================] - 0s 6ms/step - loss: 0.3643 - accuracy: 0.8590 - val_loss: 0.2808 - val_accuracy: 0.8868\n",
            "Epoch 79/80\n",
            "7/7 [==============================] - 0s 6ms/step - loss: 0.3695 - accuracy: 0.8654 - val_loss: 0.2811 - val_accuracy: 0.8868\n",
            "Epoch 80/80\n",
            "7/7 [==============================] - 0s 8ms/step - loss: 0.3594 - accuracy: 0.8654 - val_loss: 0.2798 - val_accuracy: 0.8868\n"
          ]
        }
      ]
    },
    {
      "cell_type": "code",
      "source": [
        "val_accuracy = np.mean(history.history['val_accuracy'])\n",
        "print(\"\\n%s: %.2f%%\" % ('val_accuracy is', val_accuracy*100))"
      ],
      "metadata": {
        "execution": {
          "iopub.status.busy": "2022-04-17T03:47:50.07104Z",
          "iopub.execute_input": "2022-04-17T03:47:50.071622Z",
          "iopub.status.idle": "2022-04-17T03:47:50.077757Z",
          "shell.execute_reply.started": "2022-04-17T03:47:50.071573Z",
          "shell.execute_reply": "2022-04-17T03:47:50.076768Z"
        },
        "trusted": true,
        "id": "lknwKXn2OuYd",
        "colab": {
          "base_uri": "https://localhost:8080/"
        },
        "outputId": "48d2db72-ca61-4143-ce7f-93fda6f15055"
      },
      "execution_count": 75,
      "outputs": [
        {
          "output_type": "stream",
          "name": "stdout",
          "text": [
            "\n",
            "val_accuracy is: 85.59%\n"
          ]
        }
      ]
    },
    {
      "cell_type": "code",
      "source": [
        "history_df = pd.DataFrame(history.history)\n",
        "\n",
        "plt.plot(history_df.loc[:, ['loss']], \"#CD5C5C\", label='Training loss')\n",
        "plt.plot(history_df.loc[:, ['val_loss']],\"#FF0000\", label='Validation loss')\n",
        "plt.title('Training and Validation loss')\n",
        "plt.xlabel('Epochs')\n",
        "plt.ylabel('Loss')\n",
        "plt.legend(loc=\"best\")\n",
        "\n",
        "plt.show()"
      ],
      "metadata": {
        "execution": {
          "iopub.status.busy": "2022-04-17T03:47:50.079067Z",
          "iopub.execute_input": "2022-04-17T03:47:50.079306Z",
          "iopub.status.idle": "2022-04-17T03:47:50.241338Z",
          "shell.execute_reply.started": "2022-04-17T03:47:50.079278Z",
          "shell.execute_reply": "2022-04-17T03:47:50.24049Z"
        },
        "trusted": true,
        "id": "QI5cF4iGOuYd",
        "colab": {
          "base_uri": "https://localhost:8080/",
          "height": 295
        },
        "outputId": "10f1a56c-f99e-4f7e-c118-ce58edfbec14"
      },
      "execution_count": 72,
      "outputs": [
        {
          "output_type": "display_data",
          "data": {
            "text/plain": [
              "<Figure size 432x288 with 1 Axes>"
            ],
            "image/png": "[encoded data removed]"
          },
          "metadata": {
            "needs_background": "light"
          }
        }
      ]
    },
    {
      "cell_type": "code",
      "source": [
        "history_df = pd.DataFrame(history.history)\n",
        "\n",
        "plt.plot(history_df.loc[:, ['accuracy']], \"#CD5C5C\", label='Training accuracy')\n",
        "plt.plot(history_df.loc[:, ['val_accuracy']],\"#FF0000\", label='Validation accuracy')\n",
        "\n",
        "plt.title('Training and Validation accuracy')\n",
        "plt.xlabel('Epochs')\n",
        "plt.ylabel('Accuracy')\n",
        "plt.legend()\n",
        "plt.show()"
      ],
      "metadata": {
        "execution": {
          "iopub.status.busy": "2022-04-17T03:47:50.242712Z",
          "iopub.execute_input": "2022-04-17T03:47:50.24313Z",
          "iopub.status.idle": "2022-04-17T03:47:50.403477Z",
          "shell.execute_reply.started": "2022-04-17T03:47:50.24308Z",
          "shell.execute_reply": "2022-04-17T03:47:50.402654Z"
        },
        "trusted": true,
        "id": "i3nzta6dOuYd",
        "colab": {
          "base_uri": "https://localhost:8080/",
          "height": 295
        },
        "outputId": "154e4180-d8ed-430f-e0a5-700c2563a80c"
      },
      "execution_count": 62,
      "outputs": [
        {
          "output_type": "display_data",
          "data": {
            "text/plain": [
              "<Figure size 432x288 with 1 Axes>"
            ],
            "image/png": "[encoded data removed]"
          },
          "metadata": {
            "needs_background": "light"
          }
        }
      ]
    },
    {
      "cell_type": "code",
      "source": [
        "# Predicting the test set results\n",
        "y_pred = model.predict(X_test)\n",
        "y_pred = (y_pred > 0.4)\n",
        "np.set_printoptions()\n"
      ],
      "metadata": {
        "execution": {
          "iopub.status.busy": "2022-04-17T03:47:50.404899Z",
          "iopub.execute_input": "2022-04-17T03:47:50.405353Z",
          "iopub.status.idle": "2022-04-17T03:47:50.557618Z",
          "shell.execute_reply.started": "2022-04-17T03:47:50.405311Z",
          "shell.execute_reply": "2022-04-17T03:47:50.556737Z"
        },
        "trusted": true,
        "id": "Fd7VzEB5OuYe"
      },
      "execution_count": 63,
      "outputs": []
    },
    {
      "cell_type": "code",
      "source": [
        "# Getting the confusion matrix\n",
        "cmap1 = sns.diverging_palette(2, 165, s=80, l=55, n=9)\n",
        "plt.subplots(figsize=(10,7))\n",
        "cf_matrix = confusion_matrix(y_test, y_pred)\n",
        "sns.heatmap(cf_matrix/np.sum(cf_matrix), cmap = cmap1, annot = True, annot_kws = {'size':25})"
      ],
      "metadata": {
        "execution": {
          "iopub.status.busy": "2022-04-17T03:47:50.558777Z",
          "iopub.execute_input": "2022-04-17T03:47:50.559039Z",
          "iopub.status.idle": "2022-04-17T03:47:50.753346Z",
          "shell.execute_reply.started": "2022-04-17T03:47:50.559009Z",
          "shell.execute_reply": "2022-04-17T03:47:50.752518Z"
        },
        "trusted": true,
        "id": "CF5xbcsAOuYe",
        "colab": {
          "base_uri": "https://localhost:8080/",
          "height": 778
        },
        "outputId": "3edf6c0d-3712-4f4f-c611-b5cb2ba3c8ee"
      },
      "execution_count": 64,
      "outputs": [
        {
          "output_type": "error",
          "ename": "ValueError",
          "evalue": "ignored",
          "traceback": [
            "\u001b[0;31m---------------------------------------------------------------------------\u001b[0m",
            "\u001b[0;31mValueError\u001b[0m                                Traceback (most recent call last)",
            "\u001b[0;32m<ipython-input-64-6f84855352a3>\u001b[0m in \u001b[0;36m<module>\u001b[0;34m\u001b[0m\n\u001b[1;32m      2\u001b[0m \u001b[0mcmap1\u001b[0m \u001b[0;34m=\u001b[0m \u001b[0msns\u001b[0m\u001b[0;34m.\u001b[0m\u001b[0mdiverging_palette\u001b[0m\u001b[0;34m(\u001b[0m\u001b[0;36m2\u001b[0m\u001b[0;34m,\u001b[0m \u001b[0;36m165\u001b[0m\u001b[0;34m,\u001b[0m \u001b[0ms\u001b[0m\u001b[0;34m=\u001b[0m\u001b[0;36m80\u001b[0m\u001b[0;34m,\u001b[0m \u001b[0ml\u001b[0m\u001b[0;34m=\u001b[0m\u001b[0;36m55\u001b[0m\u001b[0;34m,\u001b[0m \u001b[0mn\u001b[0m\u001b[0;34m=\u001b[0m\u001b[0;36m9\u001b[0m\u001b[0;34m)\u001b[0m\u001b[0;34m\u001b[0m\u001b[0;34m\u001b[0m\u001b[0m\n\u001b[1;32m      3\u001b[0m \u001b[0mplt\u001b[0m\u001b[0;34m.\u001b[0m\u001b[0msubplots\u001b[0m\u001b[0;34m(\u001b[0m\u001b[0mfigsize\u001b[0m\u001b[0;34m=\u001b[0m\u001b[0;34m(\u001b[0m\u001b[0;36m10\u001b[0m\u001b[0;34m,\u001b[0m\u001b[0;36m7\u001b[0m\u001b[0;34m)\u001b[0m\u001b[0;34m)\u001b[0m\u001b[0;34m\u001b[0m\u001b[0;34m\u001b[0m\u001b[0m\n\u001b[0;32m----> 4\u001b[0;31m \u001b[0mcf_matrix\u001b[0m \u001b[0;34m=\u001b[0m \u001b[0mconfusion_matrix\u001b[0m\u001b[0;34m(\u001b[0m\u001b[0my_test\u001b[0m\u001b[0;34m,\u001b[0m \u001b[0my_pred\u001b[0m\u001b[0;34m)\u001b[0m\u001b[0;34m\u001b[0m\u001b[0;34m\u001b[0m\u001b[0m\n\u001b[0m\u001b[1;32m      5\u001b[0m \u001b[0msns\u001b[0m\u001b[0;34m.\u001b[0m\u001b[0mheatmap\u001b[0m\u001b[0;34m(\u001b[0m\u001b[0mcf_matrix\u001b[0m\u001b[0;34m/\u001b[0m\u001b[0mnp\u001b[0m\u001b[0;34m.\u001b[0m\u001b[0msum\u001b[0m\u001b[0;34m(\u001b[0m\u001b[0mcf_matrix\u001b[0m\u001b[0;34m)\u001b[0m\u001b[0;34m,\u001b[0m \u001b[0mcmap\u001b[0m \u001b[0;34m=\u001b[0m \u001b[0mcmap1\u001b[0m\u001b[0;34m,\u001b[0m \u001b[0mannot\u001b[0m \u001b[0;34m=\u001b[0m \u001b[0;32mTrue\u001b[0m\u001b[0;34m,\u001b[0m \u001b[0mannot_kws\u001b[0m \u001b[0;34m=\u001b[0m \u001b[0;34m{\u001b[0m\u001b[0;34m'size'\u001b[0m\u001b[0;34m:\u001b[0m\u001b[0;36m25\u001b[0m\u001b[0;34m}\u001b[0m\u001b[0;34m)\u001b[0m\u001b[0;34m\u001b[0m\u001b[0;34m\u001b[0m\u001b[0m\n",
            "\u001b[0;32m/usr/local/lib/python3.7/dist-packages/sklearn/metrics/_classification.py\u001b[0m in \u001b[0;36mconfusion_matrix\u001b[0;34m(y_true, y_pred, labels, sample_weight, normalize)\u001b[0m\n\u001b[1;32m    305\u001b[0m     \u001b[0;34m(\u001b[0m\u001b[0;36m0\u001b[0m\u001b[0;34m,\u001b[0m \u001b[0;36m2\u001b[0m\u001b[0;34m,\u001b[0m \u001b[0;36m1\u001b[0m\u001b[0;34m,\u001b[0m \u001b[0;36m1\u001b[0m\u001b[0;34m)\u001b[0m\u001b[0;34m\u001b[0m\u001b[0;34m\u001b[0m\u001b[0m\n\u001b[1;32m    306\u001b[0m     \"\"\"\n\u001b[0;32m--> 307\u001b[0;31m     \u001b[0my_type\u001b[0m\u001b[0;34m,\u001b[0m \u001b[0my_true\u001b[0m\u001b[0;34m,\u001b[0m \u001b[0my_pred\u001b[0m \u001b[0;34m=\u001b[0m \u001b[0m_check_targets\u001b[0m\u001b[0;34m(\u001b[0m\u001b[0my_true\u001b[0m\u001b[0;34m,\u001b[0m \u001b[0my_pred\u001b[0m\u001b[0;34m)\u001b[0m\u001b[0;34m\u001b[0m\u001b[0;34m\u001b[0m\u001b[0m\n\u001b[0m\u001b[1;32m    308\u001b[0m     \u001b[0;32mif\u001b[0m \u001b[0my_type\u001b[0m \u001b[0;32mnot\u001b[0m \u001b[0;32min\u001b[0m \u001b[0;34m(\u001b[0m\u001b[0;34m\"binary\"\u001b[0m\u001b[0;34m,\u001b[0m \u001b[0;34m\"multiclass\"\u001b[0m\u001b[0;34m)\u001b[0m\u001b[0;34m:\u001b[0m\u001b[0;34m\u001b[0m\u001b[0;34m\u001b[0m\u001b[0m\n\u001b[1;32m    309\u001b[0m         \u001b[0;32mraise\u001b[0m \u001b[0mValueError\u001b[0m\u001b[0;34m(\u001b[0m\u001b[0;34m\"%s is not supported\"\u001b[0m \u001b[0;34m%\u001b[0m \u001b[0my_type\u001b[0m\u001b[0;34m)\u001b[0m\u001b[0;34m\u001b[0m\u001b[0;34m\u001b[0m\u001b[0m\n",
            "\u001b[0;32m/usr/local/lib/python3.7/dist-packages/sklearn/metrics/_classification.py\u001b[0m in \u001b[0;36m_check_targets\u001b[0;34m(y_true, y_pred)\u001b[0m\n\u001b[1;32m     82\u001b[0m     \u001b[0my_pred\u001b[0m \u001b[0;34m:\u001b[0m \u001b[0marray\u001b[0m \u001b[0;32mor\u001b[0m \u001b[0mindicator\u001b[0m \u001b[0mmatrix\u001b[0m\u001b[0;34m\u001b[0m\u001b[0;34m\u001b[0m\u001b[0m\n\u001b[1;32m     83\u001b[0m     \"\"\"\n\u001b[0;32m---> 84\u001b[0;31m     \u001b[0mcheck_consistent_length\u001b[0m\u001b[0;34m(\u001b[0m\u001b[0my_true\u001b[0m\u001b[0;34m,\u001b[0m \u001b[0my_pred\u001b[0m\u001b[0;34m)\u001b[0m\u001b[0;34m\u001b[0m\u001b[0;34m\u001b[0m\u001b[0m\n\u001b[0m\u001b[1;32m     85\u001b[0m     \u001b[0mtype_true\u001b[0m \u001b[0;34m=\u001b[0m \u001b[0mtype_of_target\u001b[0m\u001b[0;34m(\u001b[0m\u001b[0my_true\u001b[0m\u001b[0;34m)\u001b[0m\u001b[0;34m\u001b[0m\u001b[0;34m\u001b[0m\u001b[0m\n\u001b[1;32m     86\u001b[0m     \u001b[0mtype_pred\u001b[0m \u001b[0;34m=\u001b[0m \u001b[0mtype_of_target\u001b[0m\u001b[0;34m(\u001b[0m\u001b[0my_pred\u001b[0m\u001b[0;34m)\u001b[0m\u001b[0;34m\u001b[0m\u001b[0;34m\u001b[0m\u001b[0m\n",
            "\u001b[0;32m/usr/local/lib/python3.7/dist-packages/sklearn/utils/validation.py\u001b[0m in \u001b[0;36mcheck_consistent_length\u001b[0;34m(*arrays)\u001b[0m\n\u001b[1;32m    332\u001b[0m         raise ValueError(\n\u001b[1;32m    333\u001b[0m             \u001b[0;34m\"Found input variables with inconsistent numbers of samples: %r\"\u001b[0m\u001b[0;34m\u001b[0m\u001b[0;34m\u001b[0m\u001b[0m\n\u001b[0;32m--> 334\u001b[0;31m             \u001b[0;34m%\u001b[0m \u001b[0;34m[\u001b[0m\u001b[0mint\u001b[0m\u001b[0;34m(\u001b[0m\u001b[0ml\u001b[0m\u001b[0;34m)\u001b[0m \u001b[0;32mfor\u001b[0m \u001b[0ml\u001b[0m \u001b[0;32min\u001b[0m \u001b[0mlengths\u001b[0m\u001b[0;34m]\u001b[0m\u001b[0;34m\u001b[0m\u001b[0;34m\u001b[0m\u001b[0m\n\u001b[0m\u001b[1;32m    335\u001b[0m         )\n\u001b[1;32m    336\u001b[0m \u001b[0;34m\u001b[0m\u001b[0m\n",
            "\u001b[0;31mValueError\u001b[0m: Found input variables with inconsistent numbers of samples: [60, 90]"
          ]
        },
        {
          "output_type": "display_data",
          "data": {
            "text/plain": [
              "<Figure size 720x504 with 1 Axes>"
            ],
            "image/png": "[encoded data removed]"
          },
          "metadata": {
            "needs_background": "light"
          }
        }
      ]
    },
    {
      "cell_type": "code",
      "source": [
        "print(classification_report(y_test, y_pred))"
      ],
      "metadata": {
        "execution": {
          "iopub.status.busy": "2022-04-17T03:47:50.754765Z",
          "iopub.execute_input": "2022-04-17T03:47:50.755169Z",
          "iopub.status.idle": "2022-04-17T03:47:50.767039Z",
          "shell.execute_reply.started": "2022-04-17T03:47:50.755125Z",
          "shell.execute_reply": "2022-04-17T03:47:50.766076Z"
        },
        "trusted": true,
        "id": "GiBOoLEAOuYe",
        "colab": {
          "base_uri": "https://localhost:8080/",
          "height": 311
        },
        "outputId": "7c8c894a-4302-4a25-ef0f-2bbe43a5df3e"
      },
      "execution_count": 65,
      "outputs": [
        {
          "output_type": "error",
          "ename": "ValueError",
          "evalue": "ignored",
          "traceback": [
            "\u001b[0;31m---------------------------------------------------------------------------\u001b[0m",
            "\u001b[0;31mValueError\u001b[0m                                Traceback (most recent call last)",
            "\u001b[0;32m<ipython-input-65-e7622b950e3d>\u001b[0m in \u001b[0;36m<module>\u001b[0;34m\u001b[0m\n\u001b[0;32m----> 1\u001b[0;31m \u001b[0mprint\u001b[0m\u001b[0;34m(\u001b[0m\u001b[0mclassification_report\u001b[0m\u001b[0;34m(\u001b[0m\u001b[0my_test\u001b[0m\u001b[0;34m,\u001b[0m \u001b[0my_pred\u001b[0m\u001b[0;34m)\u001b[0m\u001b[0;34m)\u001b[0m\u001b[0;34m\u001b[0m\u001b[0;34m\u001b[0m\u001b[0m\n\u001b[0m",
            "\u001b[0;32m/usr/local/lib/python3.7/dist-packages/sklearn/metrics/_classification.py\u001b[0m in \u001b[0;36mclassification_report\u001b[0;34m(y_true, y_pred, labels, target_names, sample_weight, digits, output_dict, zero_division)\u001b[0m\n\u001b[1;32m   2108\u001b[0m     \"\"\"\n\u001b[1;32m   2109\u001b[0m \u001b[0;34m\u001b[0m\u001b[0m\n\u001b[0;32m-> 2110\u001b[0;31m     \u001b[0my_type\u001b[0m\u001b[0;34m,\u001b[0m \u001b[0my_true\u001b[0m\u001b[0;34m,\u001b[0m \u001b[0my_pred\u001b[0m \u001b[0;34m=\u001b[0m \u001b[0m_check_targets\u001b[0m\u001b[0;34m(\u001b[0m\u001b[0my_true\u001b[0m\u001b[0;34m,\u001b[0m \u001b[0my_pred\u001b[0m\u001b[0;34m)\u001b[0m\u001b[0;34m\u001b[0m\u001b[0;34m\u001b[0m\u001b[0m\n\u001b[0m\u001b[1;32m   2111\u001b[0m \u001b[0;34m\u001b[0m\u001b[0m\n\u001b[1;32m   2112\u001b[0m     \u001b[0;32mif\u001b[0m \u001b[0mlabels\u001b[0m \u001b[0;32mis\u001b[0m \u001b[0;32mNone\u001b[0m\u001b[0;34m:\u001b[0m\u001b[0;34m\u001b[0m\u001b[0;34m\u001b[0m\u001b[0m\n",
            "\u001b[0;32m/usr/local/lib/python3.7/dist-packages/sklearn/metrics/_classification.py\u001b[0m in \u001b[0;36m_check_targets\u001b[0;34m(y_true, y_pred)\u001b[0m\n\u001b[1;32m     82\u001b[0m     \u001b[0my_pred\u001b[0m \u001b[0;34m:\u001b[0m \u001b[0marray\u001b[0m \u001b[0;32mor\u001b[0m \u001b[0mindicator\u001b[0m \u001b[0mmatrix\u001b[0m\u001b[0;34m\u001b[0m\u001b[0;34m\u001b[0m\u001b[0m\n\u001b[1;32m     83\u001b[0m     \"\"\"\n\u001b[0;32m---> 84\u001b[0;31m     \u001b[0mcheck_consistent_length\u001b[0m\u001b[0;34m(\u001b[0m\u001b[0my_true\u001b[0m\u001b[0;34m,\u001b[0m \u001b[0my_pred\u001b[0m\u001b[0;34m)\u001b[0m\u001b[0;34m\u001b[0m\u001b[0;34m\u001b[0m\u001b[0m\n\u001b[0m\u001b[1;32m     85\u001b[0m     \u001b[0mtype_true\u001b[0m \u001b[0;34m=\u001b[0m \u001b[0mtype_of_target\u001b[0m\u001b[0;34m(\u001b[0m\u001b[0my_true\u001b[0m\u001b[0;34m)\u001b[0m\u001b[0;34m\u001b[0m\u001b[0;34m\u001b[0m\u001b[0m\n\u001b[1;32m     86\u001b[0m     \u001b[0mtype_pred\u001b[0m \u001b[0;34m=\u001b[0m \u001b[0mtype_of_target\u001b[0m\u001b[0;34m(\u001b[0m\u001b[0my_pred\u001b[0m\u001b[0;34m)\u001b[0m\u001b[0;34m\u001b[0m\u001b[0;34m\u001b[0m\u001b[0m\n",
            "\u001b[0;32m/usr/local/lib/python3.7/dist-packages/sklearn/utils/validation.py\u001b[0m in \u001b[0;36mcheck_consistent_length\u001b[0;34m(*arrays)\u001b[0m\n\u001b[1;32m    332\u001b[0m         raise ValueError(\n\u001b[1;32m    333\u001b[0m             \u001b[0;34m\"Found input variables with inconsistent numbers of samples: %r\"\u001b[0m\u001b[0;34m\u001b[0m\u001b[0;34m\u001b[0m\u001b[0m\n\u001b[0;32m--> 334\u001b[0;31m             \u001b[0;34m%\u001b[0m \u001b[0;34m[\u001b[0m\u001b[0mint\u001b[0m\u001b[0;34m(\u001b[0m\u001b[0ml\u001b[0m\u001b[0;34m)\u001b[0m \u001b[0;32mfor\u001b[0m \u001b[0ml\u001b[0m \u001b[0;32min\u001b[0m \u001b[0mlengths\u001b[0m\u001b[0;34m]\u001b[0m\u001b[0;34m\u001b[0m\u001b[0;34m\u001b[0m\u001b[0m\n\u001b[0m\u001b[1;32m    335\u001b[0m         )\n\u001b[1;32m    336\u001b[0m \u001b[0;34m\u001b[0m\u001b[0m\n",
            "\u001b[0;31mValueError\u001b[0m: Found input variables with inconsistent numbers of samples: [60, 90]"
          ]
        }
      ]
    },
    {
      "cell_type": "code",
      "source": [
        "from sklearn.svm import SVC\n",
        "import sklearn.metrics as metrics\n",
        "svm=SVC()\n",
        "svm.fit(X_train, y_train)\n",
        "y_pred=svm.predict(X_test)\n",
        "print(\"Accuracy {}\".format(metrics.accuracy_score(y_test, y_pred)))\n",
        "print(\"Recall/Sensitivity {}\".format(metrics.recall_score(y_test, y_pred)))"
      ],
      "metadata": {
        "colab": {
          "base_uri": "https://localhost:8080/",
          "height": 380
        },
        "id": "-b0j9CGtrI2r",
        "outputId": "bae44111-bd49-4850-a78c-e59f6381f217"
      },
      "execution_count": 66,
      "outputs": [
        {
          "output_type": "error",
          "ename": "ValueError",
          "evalue": "ignored",
          "traceback": [
            "\u001b[0;31m---------------------------------------------------------------------------\u001b[0m",
            "\u001b[0;31mValueError\u001b[0m                                Traceback (most recent call last)",
            "\u001b[0;32m<ipython-input-66-1525cea09699>\u001b[0m in \u001b[0;36m<module>\u001b[0;34m\u001b[0m\n\u001b[1;32m      2\u001b[0m \u001b[0;32mimport\u001b[0m \u001b[0msklearn\u001b[0m\u001b[0;34m.\u001b[0m\u001b[0mmetrics\u001b[0m \u001b[0;32mas\u001b[0m \u001b[0mmetrics\u001b[0m\u001b[0;34m\u001b[0m\u001b[0;34m\u001b[0m\u001b[0m\n\u001b[1;32m      3\u001b[0m \u001b[0msvm\u001b[0m\u001b[0;34m=\u001b[0m\u001b[0mSVC\u001b[0m\u001b[0;34m(\u001b[0m\u001b[0;34m)\u001b[0m\u001b[0;34m\u001b[0m\u001b[0;34m\u001b[0m\u001b[0m\n\u001b[0;32m----> 4\u001b[0;31m \u001b[0msvm\u001b[0m\u001b[0;34m.\u001b[0m\u001b[0mfit\u001b[0m\u001b[0;34m(\u001b[0m\u001b[0mX_train\u001b[0m\u001b[0;34m,\u001b[0m \u001b[0my_train\u001b[0m\u001b[0;34m)\u001b[0m\u001b[0;34m\u001b[0m\u001b[0;34m\u001b[0m\u001b[0m\n\u001b[0m\u001b[1;32m      5\u001b[0m \u001b[0my_pred\u001b[0m\u001b[0;34m=\u001b[0m\u001b[0msvm\u001b[0m\u001b[0;34m.\u001b[0m\u001b[0mpredict\u001b[0m\u001b[0;34m(\u001b[0m\u001b[0mX_test\u001b[0m\u001b[0;34m)\u001b[0m\u001b[0;34m\u001b[0m\u001b[0;34m\u001b[0m\u001b[0m\n\u001b[1;32m      6\u001b[0m \u001b[0mprint\u001b[0m\u001b[0;34m(\u001b[0m\u001b[0;34m\"Accuracy {}\"\u001b[0m\u001b[0;34m.\u001b[0m\u001b[0mformat\u001b[0m\u001b[0;34m(\u001b[0m\u001b[0mmetrics\u001b[0m\u001b[0;34m.\u001b[0m\u001b[0maccuracy_score\u001b[0m\u001b[0;34m(\u001b[0m\u001b[0my_test\u001b[0m\u001b[0;34m,\u001b[0m \u001b[0my_pred\u001b[0m\u001b[0;34m)\u001b[0m\u001b[0;34m)\u001b[0m\u001b[0;34m)\u001b[0m\u001b[0;34m\u001b[0m\u001b[0;34m\u001b[0m\u001b[0m\n",
            "\u001b[0;32m/usr/local/lib/python3.7/dist-packages/sklearn/svm/_base.py\u001b[0m in \u001b[0;36mfit\u001b[0;34m(self, X, y, sample_weight)\u001b[0m\n\u001b[1;32m    194\u001b[0m                 \u001b[0morder\u001b[0m\u001b[0;34m=\u001b[0m\u001b[0;34m\"C\"\u001b[0m\u001b[0;34m,\u001b[0m\u001b[0;34m\u001b[0m\u001b[0;34m\u001b[0m\u001b[0m\n\u001b[1;32m    195\u001b[0m                 \u001b[0maccept_sparse\u001b[0m\u001b[0;34m=\u001b[0m\u001b[0;34m\"csr\"\u001b[0m\u001b[0;34m,\u001b[0m\u001b[0;34m\u001b[0m\u001b[0;34m\u001b[0m\u001b[0m\n\u001b[0;32m--> 196\u001b[0;31m                 \u001b[0maccept_large_sparse\u001b[0m\u001b[0;34m=\u001b[0m\u001b[0;32mFalse\u001b[0m\u001b[0;34m,\u001b[0m\u001b[0;34m\u001b[0m\u001b[0;34m\u001b[0m\u001b[0m\n\u001b[0m\u001b[1;32m    197\u001b[0m             )\n\u001b[1;32m    198\u001b[0m \u001b[0;34m\u001b[0m\u001b[0m\n",
            "\u001b[0;32m/usr/local/lib/python3.7/dist-packages/sklearn/base.py\u001b[0m in \u001b[0;36m_validate_data\u001b[0;34m(self, X, y, reset, validate_separately, **check_params)\u001b[0m\n\u001b[1;32m    579\u001b[0m                 \u001b[0my\u001b[0m \u001b[0;34m=\u001b[0m \u001b[0mcheck_array\u001b[0m\u001b[0;34m(\u001b[0m\u001b[0my\u001b[0m\u001b[0;34m,\u001b[0m \u001b[0;34m**\u001b[0m\u001b[0mcheck_y_params\u001b[0m\u001b[0;34m)\u001b[0m\u001b[0;34m\u001b[0m\u001b[0;34m\u001b[0m\u001b[0m\n\u001b[1;32m    580\u001b[0m             \u001b[0;32melse\u001b[0m\u001b[0;34m:\u001b[0m\u001b[0;34m\u001b[0m\u001b[0;34m\u001b[0m\u001b[0m\n\u001b[0;32m--> 581\u001b[0;31m                 \u001b[0mX\u001b[0m\u001b[0;34m,\u001b[0m \u001b[0my\u001b[0m \u001b[0;34m=\u001b[0m \u001b[0mcheck_X_y\u001b[0m\u001b[0;34m(\u001b[0m\u001b[0mX\u001b[0m\u001b[0;34m,\u001b[0m \u001b[0my\u001b[0m\u001b[0;34m,\u001b[0m \u001b[0;34m**\u001b[0m\u001b[0mcheck_params\u001b[0m\u001b[0;34m)\u001b[0m\u001b[0;34m\u001b[0m\u001b[0;34m\u001b[0m\u001b[0m\n\u001b[0m\u001b[1;32m    582\u001b[0m             \u001b[0mout\u001b[0m \u001b[0;34m=\u001b[0m \u001b[0mX\u001b[0m\u001b[0;34m,\u001b[0m \u001b[0my\u001b[0m\u001b[0;34m\u001b[0m\u001b[0;34m\u001b[0m\u001b[0m\n\u001b[1;32m    583\u001b[0m \u001b[0;34m\u001b[0m\u001b[0m\n",
            "\u001b[0;32m/usr/local/lib/python3.7/dist-packages/sklearn/utils/validation.py\u001b[0m in \u001b[0;36mcheck_X_y\u001b[0;34m(X, y, accept_sparse, accept_large_sparse, dtype, order, copy, force_all_finite, ensure_2d, allow_nd, multi_output, ensure_min_samples, ensure_min_features, y_numeric, estimator)\u001b[0m\n\u001b[1;32m    979\u001b[0m     \u001b[0my\u001b[0m \u001b[0;34m=\u001b[0m \u001b[0m_check_y\u001b[0m\u001b[0;34m(\u001b[0m\u001b[0my\u001b[0m\u001b[0;34m,\u001b[0m \u001b[0mmulti_output\u001b[0m\u001b[0;34m=\u001b[0m\u001b[0mmulti_output\u001b[0m\u001b[0;34m,\u001b[0m \u001b[0my_numeric\u001b[0m\u001b[0;34m=\u001b[0m\u001b[0my_numeric\u001b[0m\u001b[0;34m)\u001b[0m\u001b[0;34m\u001b[0m\u001b[0;34m\u001b[0m\u001b[0m\n\u001b[1;32m    980\u001b[0m \u001b[0;34m\u001b[0m\u001b[0m\n\u001b[0;32m--> 981\u001b[0;31m     \u001b[0mcheck_consistent_length\u001b[0m\u001b[0;34m(\u001b[0m\u001b[0mX\u001b[0m\u001b[0;34m,\u001b[0m \u001b[0my\u001b[0m\u001b[0;34m)\u001b[0m\u001b[0;34m\u001b[0m\u001b[0;34m\u001b[0m\u001b[0m\n\u001b[0m\u001b[1;32m    982\u001b[0m \u001b[0;34m\u001b[0m\u001b[0m\n\u001b[1;32m    983\u001b[0m     \u001b[0;32mreturn\u001b[0m \u001b[0mX\u001b[0m\u001b[0;34m,\u001b[0m \u001b[0my\u001b[0m\u001b[0;34m\u001b[0m\u001b[0;34m\u001b[0m\u001b[0m\n",
            "\u001b[0;32m/usr/local/lib/python3.7/dist-packages/sklearn/utils/validation.py\u001b[0m in \u001b[0;36mcheck_consistent_length\u001b[0;34m(*arrays)\u001b[0m\n\u001b[1;32m    332\u001b[0m         raise ValueError(\n\u001b[1;32m    333\u001b[0m             \u001b[0;34m\"Found input variables with inconsistent numbers of samples: %r\"\u001b[0m\u001b[0;34m\u001b[0m\u001b[0;34m\u001b[0m\u001b[0m\n\u001b[0;32m--> 334\u001b[0;31m             \u001b[0;34m%\u001b[0m \u001b[0;34m[\u001b[0m\u001b[0mint\u001b[0m\u001b[0;34m(\u001b[0m\u001b[0ml\u001b[0m\u001b[0;34m)\u001b[0m \u001b[0;32mfor\u001b[0m \u001b[0ml\u001b[0m \u001b[0;32min\u001b[0m \u001b[0mlengths\u001b[0m\u001b[0;34m]\u001b[0m\u001b[0;34m\u001b[0m\u001b[0;34m\u001b[0m\u001b[0m\n\u001b[0m\u001b[1;32m    335\u001b[0m         )\n\u001b[1;32m    336\u001b[0m \u001b[0;34m\u001b[0m\u001b[0m\n",
            "\u001b[0;31mValueError\u001b[0m: Found input variables with inconsistent numbers of samples: [209, 239]"
          ]
        }
      ]
    },
    {
      "cell_type": "code",
      "source": [
        "# --- Applying KNN ---\n",
        "from sklearn.neighbors import KNeighborsClassifier\n",
        "KNNClassifier = KNeighborsClassifier(n_neighbors=3)\n",
        "KNNClassifier.fit(X_train, y_train)\n",
        "\n",
        "y_pred_KNN = KNNClassifier.predict(X_test)"
      ],
      "metadata": {
        "id": "6TqYQHskXUXR"
      },
      "execution_count": 41,
      "outputs": []
    },
    {
      "cell_type": "code",
      "source": [
        "# --- KNN Accuracy ---\n",
        "KNNAcc = accuracy_score(y_pred_KNN, y_test)\n",
        "print('.:. K-Nearest Neighbour Accuracy:'+'\\033[1m {:.2f}%'.format(KNNAcc*100)+' .:.')"
      ],
      "metadata": {
        "colab": {
          "base_uri": "https://localhost:8080/"
        },
        "id": "cquKWTt4aZ4M",
        "outputId": "02c9d2a1-af3a-4c35-d2ca-a2189943da94"
      },
      "execution_count": 42,
      "outputs": [
        {
          "output_type": "stream",
          "name": "stdout",
          "text": [
            ".:. K-Nearest Neighbour Accuracy:\u001b[1m 76.67% .:.\n"
          ]
        }
      ]
    },
    {
      "cell_type": "code",
      "source": [
        "# --- Applying Gaussian NB ---\n",
        "from sklearn.naive_bayes import GaussianNB\n",
        "GNBclassifier = GaussianNB(var_smoothing=0.1)\n",
        "GNBclassifier.fit(X_train, y_train)\n",
        "\n",
        "y_pred_GNB = GNBclassifier.predict(X_test)"
      ],
      "metadata": {
        "id": "vY-nGARWbAXU"
      },
      "execution_count": 43,
      "outputs": []
    },
    {
      "cell_type": "code",
      "source": [
        "# --- GNB Accuracy ---\n",
        "GNBAcc = accuracy_score(y_pred_GNB, y_test)\n",
        "print('.:. Gaussian Naive Bayes Accuracy:'+'\\033[1m {:.2f}%'.format(GNBAcc*100)+' .:.')"
      ],
      "metadata": {
        "colab": {
          "base_uri": "https://localhost:8080/"
        },
        "id": "QTDKTaC_b-Dl",
        "outputId": "63949255-a417-4d7f-976a-ca9a0cad4704"
      },
      "execution_count": 44,
      "outputs": [
        {
          "output_type": "stream",
          "name": "stdout",
          "text": [
            ".:. Gaussian Naive Bayes Accuracy:\u001b[1m 73.33% .:.\n"
          ]
        }
      ]
    },
    {
      "cell_type": "code",
      "source": [
        "# --- Applying Random Forest ---\n",
        "from sklearn.ensemble import RandomForestClassifier, GradientBoostingClassifier, AdaBoostClassifier, ExtraTreesClassifier\n",
        "RFclassifier = RandomForestClassifier(n_estimators=1000, random_state=1, max_leaf_nodes=20, min_samples_split=15)\n",
        "\n",
        "RFclassifier.fit(X_train, y_train)\n",
        "y_pred_RF = RFclassifier.predict(X_test)"
      ],
      "metadata": {
        "id": "NpJeYk5iccXE"
      },
      "execution_count": 45,
      "outputs": []
    },
    {
      "cell_type": "code",
      "source": [
        "# --- Random Forest Accuracy ---\n",
        "RFAcc = accuracy_score(y_pred_RF, y_test)\n",
        "print('.:. Random Forest Accuracy:'+'\\033[1m {:.2f}%'.format(RFAcc*100)+' .:.')"
      ],
      "metadata": {
        "colab": {
          "base_uri": "https://localhost:8080/"
        },
        "id": "kFjmbKJ3dGr5",
        "outputId": "6017c1b4-86b7-48d0-db4e-1191c3199dc3"
      },
      "execution_count": 46,
      "outputs": [
        {
          "output_type": "stream",
          "name": "stdout",
          "text": [
            ".:. Random Forest Accuracy:\u001b[1m 82.22% .:.\n"
          ]
        }
      ]
    },
    {
      "cell_type": "code",
      "source": [
        "# --- Applying Gradient Boosting ---\n",
        "GBclassifier = GradientBoostingClassifier(random_state=1, n_estimators=100, max_leaf_nodes=3, loss='exponential', \n",
        "                                          min_samples_leaf=20)\n",
        "\n",
        "GBclassifier.fit(X_train, y_train)\n",
        "y_pred_GB = GBclassifier.predict(X_test)"
      ],
      "metadata": {
        "id": "xni6N7vMdUlZ"
      },
      "execution_count": 47,
      "outputs": []
    },
    {
      "cell_type": "code",
      "source": [
        "# --- Gradient Boosting Accuracy ---\n",
        "GBAcc = accuracy_score(y_pred_GB, y_test)\n",
        "print('.:. Gradient Boosting Accuracy:'+'\\033[1m {:.2f}%'.format(GBAcc*100)+' .:.')"
      ],
      "metadata": {
        "colab": {
          "base_uri": "https://localhost:8080/"
        },
        "id": "YrIkBs8Sdac0",
        "outputId": "225602b8-1733-4c18-c4e9-95a765664892"
      },
      "execution_count": 48,
      "outputs": [
        {
          "output_type": "stream",
          "name": "stdout",
          "text": [
            ".:. Gradient Boosting Accuracy:\u001b[1m 84.44% .:.\n"
          ]
        }
      ]
    },
    {
      "cell_type": "code",
      "source": [
        "# --- Applying SVM ---\n",
        "from sklearn.svm import SVC\n",
        "SVMclassifier = SVC(kernel='linear', max_iter=1000, C=10, probability=True)\n",
        "SVMclassifier.fit(X_train, y_train)\n",
        "\n",
        "y_pred_SVM = SVMclassifier.predict(X_test)"
      ],
      "metadata": {
        "id": "bsYrstSUeQXh"
      },
      "execution_count": 49,
      "outputs": []
    },
    {
      "cell_type": "code",
      "source": [
        "# --- SVM Accuracy ---\n",
        "SVMAcc = accuracy_score(y_pred_SVM, y_test)\n",
        "print('.:. Support Vector Machine Accuracy:'+'\\033[1m {:.2f}%'.format(SVMAcc*100)+' .:.')"
      ],
      "metadata": {
        "colab": {
          "base_uri": "https://localhost:8080/"
        },
        "id": "02ynlYmyekLw",
        "outputId": "1f7b079f-08db-4590-eed4-905c69a69c59"
      },
      "execution_count": 50,
      "outputs": [
        {
          "output_type": "stream",
          "name": "stdout",
          "text": [
            ".:. Support Vector Machine Accuracy:\u001b[1m 78.89% .:.\n"
          ]
        }
      ]
    },
    {
      "cell_type": "code",
      "source": [
        "# --- Create Accuracy Comparison Table ---\n",
        "compare = pd.DataFrame({'Model': ['K-Nearest Neighbour', 'Support Vector Machine','ANN', \n",
        "                                  'Gaussian Naive Bayes','Random Forest', 'Gradient Boosting'\n",
        "                                  ], \n",
        "                        'Accuracy': [KNNAcc*100, SVMAcc*100, val_accuracy*100, GNBAcc*100,RFAcc*100, GBAcc*100,\n",
        "                                     ]})\n",
        "\n",
        "# --- Create Accuracy Comparison Table ---\n",
        "compare.sort_values(by='Accuracy', ascending=False).style.background_gradient(cmap='PuRd').hide_index().set_properties(**{'font-family': 'Segoe UI'})"
      ],
      "metadata": {
        "colab": {
          "base_uri": "https://localhost:8080/",
          "height": 237
        },
        "id": "y6s88JEUfgTH",
        "outputId": "a2b1b711-4267-44e6-9924-6ee873d6fca1"
      },
      "execution_count": 56,
      "outputs": [
        {
          "output_type": "execute_result",
          "data": {
            "text/plain": [
              "<pandas.io.formats.style.Styler at 0x7f8c92dae690>"
            ],
            "text/html": [
              "<style type=\"text/css\">\n",
              "#T_117c2_row0_col0, #T_117c2_row1_col0, #T_117c2_row2_col0, #T_117c2_row3_col0, #T_117c2_row4_col0, #T_117c2_row5_col0 {\n",
              "  font-family: Segoe UI;\n",
              "}\n",
              "#T_117c2_row0_col1 {\n",
              "  background-color: #67001f;\n",
              "  color: #f1f1f1;\n",
              "  font-family: Segoe UI;\n",
              "}\n",
              "#T_117c2_row1_col1 {\n",
              "  background-color: #9c0144;\n",
              "  color: #f1f1f1;\n",
              "  font-family: Segoe UI;\n",
              "}\n",
              "#T_117c2_row2_col1 {\n",
              "  background-color: #d91c6d;\n",
              "  color: #f1f1f1;\n",
              "  font-family: Segoe UI;\n",
              "}\n",
              "#T_117c2_row3_col1 {\n",
              "  background-color: #d37fbd;\n",
              "  color: #f1f1f1;\n",
              "  font-family: Segoe UI;\n",
              "}\n",
              "#T_117c2_row4_col1 {\n",
              "  background-color: #d3b6d9;\n",
              "  color: #000000;\n",
              "  font-family: Segoe UI;\n",
              "}\n",
              "#T_117c2_row5_col1 {\n",
              "  background-color: #f7f4f9;\n",
              "  color: #000000;\n",
              "  font-family: Segoe UI;\n",
              "}\n",
              "</style>\n",
              "<table id=\"T_117c2_\" class=\"dataframe\">\n",
              "  <thead>\n",
              "    <tr>\n",
              "      <th class=\"col_heading level0 col0\" >Model</th>\n",
              "      <th class=\"col_heading level0 col1\" >Accuracy</th>\n",
              "    </tr>\n",
              "  </thead>\n",
              "  <tbody>\n",
              "    <tr>\n",
              "      <td id=\"T_117c2_row0_col0\" class=\"data row0 col0\" >ANN</td>\n",
              "      <td id=\"T_117c2_row0_col1\" class=\"data row0 col1\" >86.163522</td>\n",
              "    </tr>\n",
              "    <tr>\n",
              "      <td id=\"T_117c2_row1_col0\" class=\"data row1 col0\" >Gradient Boosting</td>\n",
              "      <td id=\"T_117c2_row1_col1\" class=\"data row1 col1\" >84.444444</td>\n",
              "    </tr>\n",
              "    <tr>\n",
              "      <td id=\"T_117c2_row2_col0\" class=\"data row2 col0\" >Random Forest</td>\n",
              "      <td id=\"T_117c2_row2_col1\" class=\"data row2 col1\" >82.222222</td>\n",
              "    </tr>\n",
              "    <tr>\n",
              "      <td id=\"T_117c2_row3_col0\" class=\"data row3 col0\" >Support Vector Machine</td>\n",
              "      <td id=\"T_117c2_row3_col1\" class=\"data row3 col1\" >78.888889</td>\n",
              "    </tr>\n",
              "    <tr>\n",
              "      <td id=\"T_117c2_row4_col0\" class=\"data row4 col0\" >K-Nearest Neighbour</td>\n",
              "      <td id=\"T_117c2_row4_col1\" class=\"data row4 col1\" >76.666667</td>\n",
              "    </tr>\n",
              "    <tr>\n",
              "      <td id=\"T_117c2_row5_col0\" class=\"data row5 col0\" >Gaussian Naive Bayes</td>\n",
              "      <td id=\"T_117c2_row5_col1\" class=\"data row5 col1\" >73.333333</td>\n",
              "    </tr>\n",
              "  </tbody>\n",
              "</table>\n"
            ]
          },
          "metadata": {},
          "execution_count": 56
        }
      ]
    }
  ]
}