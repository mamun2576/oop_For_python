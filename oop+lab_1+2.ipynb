{
  "nbformat": 4,
  "nbformat_minor": 0,
  "metadata": {
    "colab": {
      "name": "oop+lab_1+2.ipynb",
      "provenance": [],
      "authorship_tag": "ABX9TyNP7X4E9WJyZMes3jBgcGMk",
      "include_colab_link": true
    },
    "kernelspec": {
      "name": "python3",
      "display_name": "Python 3"
    }
  },
  "cells": [
    {
      "cell_type": "markdown",
      "metadata": {
        "id": "view-in-github",
        "colab_type": "text"
      },
      "source": [
        "<a href=\"https://colab.research.google.com/github/mamun2576/oop_For_python/blob/master/oop%2Blab_1%2B2.ipynb\" target=\"_parent\"><img src=\"https://colab.research.google.com/assets/colab-badge.svg\" alt=\"Open In Colab\"/></a>"
      ]
    },
    {
      "cell_type": "markdown",
      "metadata": {
        "id": "ysTWOeUaPJTD"
      },
      "source": [
        "***First python program.***"
      ]
    },
    {
      "cell_type": "code",
      "metadata": {
        "id": "zV_u81LxDX0q",
        "outputId": "874fc699-2dd4-4f92-b15c-520116223751",
        "colab": {
          "base_uri": "https://localhost:8080/",
          "height": 34
        }
      },
      "source": [
        "print(\"Mamun\")"
      ],
      "execution_count": null,
      "outputs": [
        {
          "output_type": "stream",
          "text": [
            "Mamun\n"
          ],
          "name": "stdout"
        }
      ]
    },
    {
      "cell_type": "markdown",
      "metadata": {
        "id": "hNzemYKXPYHk"
      },
      "source": [
        "**Variables and Assignment statements**"
      ]
    },
    {
      "cell_type": "code",
      "metadata": {
        "id": "rBb03pCRQDzX",
        "outputId": "21b400ee-07f8-4729-f288-c77f51a42064",
        "colab": {
          "base_uri": "https://localhost:8080/",
          "height": 34
        }
      },
      "source": [
        "m=4\n",
        "n=6\n",
        "print(m+n)"
      ],
      "execution_count": null,
      "outputs": [
        {
          "output_type": "stream",
          "text": [
            "10\n"
          ],
          "name": "stdout"
        }
      ]
    },
    {
      "cell_type": "code",
      "metadata": {
        "id": "pKUPB82pQ6QQ",
        "outputId": "e188c97d-a744-4d0f-faa9-010cd9584927",
        "colab": {
          "base_uri": "https://localhost:8080/",
          "height": 34
        }
      },
      "source": [
        "name=\"Mamun\"\n",
        "name2=\"islam\"\n",
        "print(name,name2)"
      ],
      "execution_count": null,
      "outputs": [
        {
          "output_type": "stream",
          "text": [
            "Mamun islam\n"
          ],
          "name": "stdout"
        }
      ]
    },
    {
      "cell_type": "markdown",
      "metadata": {
        "id": "isxSPDOzRvhE"
      },
      "source": [
        "#Type"
      ]
    },
    {
      "cell_type": "code",
      "metadata": {
        "id": "RiQ94O6JR0M7",
        "outputId": "82975d5e-89c9-49df-babf-1f19ea1d65da",
        "colab": {
          "base_uri": "https://localhost:8080/",
          "height": 34
        }
      },
      "source": [
        "m=20\n",
        "type(m)"
      ],
      "execution_count": null,
      "outputs": [
        {
          "output_type": "execute_result",
          "data": {
            "text/plain": [
              "int"
            ]
          },
          "metadata": {
            "tags": []
          },
          "execution_count": 4
        }
      ]
    },
    {
      "cell_type": "code",
      "metadata": {
        "id": "Len5w-PGSEHc",
        "outputId": "d34dc364-5b4d-4f13-90a8-17849c9cc9b8",
        "colab": {
          "base_uri": "https://localhost:8080/",
          "height": 34
        }
      },
      "source": [
        "type(3.1416)"
      ],
      "execution_count": null,
      "outputs": [
        {
          "output_type": "execute_result",
          "data": {
            "text/plain": [
              "float"
            ]
          },
          "metadata": {
            "tags": []
          },
          "execution_count": 5
        }
      ]
    },
    {
      "cell_type": "code",
      "metadata": {
        "id": "bFIrTqw_SNXV",
        "outputId": "2f7cc902-3b9b-41ad-fe40-9bf2462a289e",
        "colab": {
          "base_uri": "https://localhost:8080/",
          "height": 34
        }
      },
      "source": [
        "type(name)"
      ],
      "execution_count": null,
      "outputs": [
        {
          "output_type": "execute_result",
          "data": {
            "text/plain": [
              "str"
            ]
          },
          "metadata": {
            "tags": []
          },
          "execution_count": 6
        }
      ]
    },
    {
      "cell_type": "markdown",
      "metadata": {
        "id": "Kk3N4fF0Sj9y"
      },
      "source": [
        "**Arithmetic operators**"
      ]
    },
    {
      "cell_type": "code",
      "metadata": {
        "id": "8Bupx4zcTJYp",
        "outputId": "72081298-0565-4a1e-b139-7ffd1edb7883",
        "colab": {
          "base_uri": "https://localhost:8080/",
          "height": 34
        }
      },
      "source": [
        "sum=10+10\n",
        "print(sum)"
      ],
      "execution_count": null,
      "outputs": [
        {
          "output_type": "stream",
          "text": [
            "20\n"
          ],
          "name": "stdout"
        }
      ]
    },
    {
      "cell_type": "code",
      "metadata": {
        "id": "eM7hsBN_TV_r",
        "outputId": "d943b0be-3c19-4f79-c37a-e24c1227d020",
        "colab": {
          "base_uri": "https://localhost:8080/",
          "height": 34
        }
      },
      "source": [
        "sub=10-20\n",
        "print(sub)"
      ],
      "execution_count": null,
      "outputs": [
        {
          "output_type": "stream",
          "text": [
            "-10\n"
          ],
          "name": "stdout"
        }
      ]
    },
    {
      "cell_type": "code",
      "metadata": {
        "id": "nY_T47KCTetV",
        "outputId": "6322b1bf-8fe6-436b-e86a-215ab610e25c",
        "colab": {
          "base_uri": "https://localhost:8080/",
          "height": 34
        }
      },
      "source": [
        "multi=5*5\n",
        "print(multi)"
      ],
      "execution_count": null,
      "outputs": [
        {
          "output_type": "stream",
          "text": [
            "25\n"
          ],
          "name": "stdout"
        }
      ]
    },
    {
      "cell_type": "code",
      "metadata": {
        "id": "o0msGzvpTql7",
        "outputId": "8475ea50-4997-4fcb-8c97-bb9b76efcfee",
        "colab": {
          "base_uri": "https://localhost:8080/",
          "height": 34
        }
      },
      "source": [
        "exponentiation=20**2\n",
        "print(exponentiation)"
      ],
      "execution_count": null,
      "outputs": [
        {
          "output_type": "stream",
          "text": [
            "400\n"
          ],
          "name": "stdout"
        }
      ]
    },
    {
      "cell_type": "markdown",
      "metadata": {
        "id": "aFsPwEqQUIQX"
      },
      "source": [
        "**True division vs Floor divition**"
      ]
    },
    {
      "cell_type": "code",
      "metadata": {
        "id": "7xvtLnJ0UQzT",
        "outputId": "2e6dd0e5-a6bd-45c0-fab6-a8d1050d6efb",
        "colab": {
          "base_uri": "https://localhost:8080/",
          "height": 34
        }
      },
      "source": [
        "True_division=6/5\n",
        "print(True_division)"
      ],
      "execution_count": null,
      "outputs": [
        {
          "output_type": "stream",
          "text": [
            "1.2\n"
          ],
          "name": "stdout"
        }
      ]
    },
    {
      "cell_type": "code",
      "metadata": {
        "id": "ygJTX5MDVPki",
        "outputId": "66483ea1-a891-4b26-82e0-549946e16c1b",
        "colab": {
          "base_uri": "https://localhost:8080/",
          "height": 34
        }
      },
      "source": [
        "Floor_division=6//5\n",
        "print(Floor_division)"
      ],
      "execution_count": null,
      "outputs": [
        {
          "output_type": "stream",
          "text": [
            "1\n"
          ],
          "name": "stdout"
        }
      ]
    },
    {
      "cell_type": "code",
      "metadata": {
        "id": "DrwFE9M6VuxA",
        "outputId": "e600ca85-d76c-4e97-c655-359ab3a79f0e",
        "colab": {
          "base_uri": "https://localhost:8080/",
          "height": 34
        }
      },
      "source": [
        "remainder=14%7\n",
        "print(remainder)"
      ],
      "execution_count": null,
      "outputs": [
        {
          "output_type": "stream",
          "text": [
            "0\n"
          ],
          "name": "stdout"
        }
      ]
    },
    {
      "cell_type": "markdown",
      "metadata": {
        "id": "1GULAdZ1hLRn"
      },
      "source": [
        "***IF STATEMENT***"
      ]
    },
    {
      "cell_type": "code",
      "metadata": {
        "id": "3tIM8TGNhVhI",
        "outputId": "fedbbda3-8cba-4712-8925-a2662172ad8b",
        "colab": {
          "base_uri": "https://localhost:8080/",
          "height": 34
        }
      },
      "source": [
        "mark=80\n",
        "if mark>=60:\n",
        "  print(\"passed\")"
      ],
      "execution_count": null,
      "outputs": [
        {
          "output_type": "stream",
          "text": [
            "passed\n"
          ],
          "name": "stdout"
        }
      ]
    },
    {
      "cell_type": "markdown",
      "metadata": {
        "id": "-nO_j-Mnh2Z-"
      },
      "source": [
        "**IF ELSE STATEMENT**"
      ]
    },
    {
      "cell_type": "code",
      "metadata": {
        "id": "fHPB2VS4h_cw",
        "outputId": "7611be7e-a1f0-4a74-87eb-b65bbe6cd0a1",
        "colab": {
          "base_uri": "https://localhost:8080/",
          "height": 51
        }
      },
      "source": [
        "mark=int(input(\"Enter the mark: \"))\n",
        "if mark>=60:\n",
        "  print(\"passed\")\n",
        "else:\n",
        "   print(\"Fail\") "
      ],
      "execution_count": null,
      "outputs": [
        {
          "output_type": "stream",
          "text": [
            "Enter the mark: 40\n",
            "Fail\n"
          ],
          "name": "stdout"
        }
      ]
    },
    {
      "cell_type": "markdown",
      "metadata": {
        "id": "nMO8ZVx4jwM1"
      },
      "source": [
        "#CONDITIONAL EXPRESION"
      ]
    },
    {
      "cell_type": "code",
      "metadata": {
        "id": "pMUnnfWIj5kK",
        "outputId": "3a68a67c-4e2f-44b6-939f-f1c3015a2873",
        "colab": {
          "base_uri": "https://localhost:8080/",
          "height": 34
        }
      },
      "source": [
        "result=('passed' if mark>=60 else 'Failed')\n",
        "print(result)"
      ],
      "execution_count": null,
      "outputs": [
        {
          "output_type": "stream",
          "text": [
            "Failed\n"
          ],
          "name": "stdout"
        }
      ]
    },
    {
      "cell_type": "markdown",
      "metadata": {
        "id": "lMYbU3vVlmTs"
      },
      "source": [
        "**IF...ELIF..ELSE STATEMENT**"
      ]
    },
    {
      "cell_type": "code",
      "metadata": {
        "id": "IPTVTYU9l-GO",
        "outputId": "5aa170c5-bd6c-4285-84d3-6fd674aa46dc",
        "colab": {
          "base_uri": "https://localhost:8080/",
          "height": 51
        }
      },
      "source": [
        "mark=int(input(\"Enter the marks: \"))\n",
        "if mark>=80:\n",
        "   print('A+')\n",
        "elif mark>=75:\n",
        "  print('A')\n",
        "elif mark>=70:\n",
        "  print('A-')\n",
        "elif mark>=65:\n",
        "   print('B+')\n",
        "elif mark>=60:\n",
        "  print('B')\n",
        "elif mark>=55:\n",
        "  print('C+')\n",
        "elif mark>=50:\n",
        "  print('C')\n",
        "elif mark>=45:\n",
        "  print('D+')\n",
        "elif mark>=40:\n",
        "  print('D')\n",
        "else:\n",
        "  print('F')                  "
      ],
      "execution_count": null,
      "outputs": [
        {
          "output_type": "stream",
          "text": [
            "Enter the marks: 45\n",
            "D+\n"
          ],
          "name": "stdout"
        }
      ]
    },
    {
      "cell_type": "markdown",
      "metadata": {
        "id": "-T6qF1ncoJOX"
      },
      "source": [
        "**WHILE STATEMENT**"
      ]
    },
    {
      "cell_type": "code",
      "metadata": {
        "id": "eqTDmAHMoOtl",
        "outputId": "43a7dac6-6582-48c2-970c-91991fa32ca9",
        "colab": {
          "base_uri": "https://localhost:8080/",
          "height": 51
        }
      },
      "source": [
        "num=int(input(\"Enter the number: \"))\n",
        "while (num<=10):\n",
        "  print(num, end=\" \")\n",
        "  num+=1"
      ],
      "execution_count": null,
      "outputs": [
        {
          "output_type": "stream",
          "text": [
            "Enter the number: 1\n",
            "1 2 3 4 5 6 7 8 9 10 "
          ],
          "name": "stdout"
        }
      ]
    },
    {
      "cell_type": "markdown",
      "metadata": {
        "id": "-D0aUbFOGHGf"
      },
      "source": [
        "**while statement to find the first power of 3 larger than 50:**"
      ]
    },
    {
      "cell_type": "code",
      "metadata": {
        "id": "m0Ljb1qKGPuz",
        "outputId": "6c71bf34-4a11-4bbd-e72f-f0891e69ab31",
        "colab": {
          "base_uri": "https://localhost:8080/",
          "height": 51
        }
      },
      "source": [
        "product =int(input(\"Enter the number: \"))\n",
        "\n",
        "while product<=50:\n",
        "  product = product*3\n",
        "print(product)"
      ],
      "execution_count": 2,
      "outputs": [
        {
          "output_type": "stream",
          "text": [
            "Enter the number: 3\n",
            "81\n"
          ],
          "name": "stdout"
        }
      ]
    },
    {
      "cell_type": "markdown",
      "metadata": {
        "id": "z63b-S6vHJUs"
      },
      "source": [
        "**For statement**"
      ]
    },
    {
      "cell_type": "code",
      "metadata": {
        "id": "bCp764NJHOr2",
        "outputId": "91f4247d-50d3-4082-c03a-74d197090f43",
        "colab": {
          "base_uri": "https://localhost:8080/",
          "height": 34
        }
      },
      "source": [
        "for character in \"mamun\":\n",
        "  print(character, end=\" \")"
      ],
      "execution_count": 3,
      "outputs": [
        {
          "output_type": "stream",
          "text": [
            "m a m u n "
          ],
          "name": "stdout"
        }
      ]
    },
    {
      "cell_type": "code",
      "metadata": {
        "id": "hz-bXkJhB6jS",
        "outputId": "5b69fe9c-4753-491e-82c5-681e87f67d88",
        "colab": {
          "base_uri": "https://localhost:8080/",
          "height": 187
        }
      },
      "source": [
        "for i in range(1,11):\n",
        "  print(number,\"X\",i,\"=\",number*i)"
      ],
      "execution_count": null,
      "outputs": [
        {
          "output_type": "stream",
          "text": [
            "7 X 1 = 7\n",
            "7 X 2 = 14\n",
            "7 X 3 = 21\n",
            "7 X 4 = 28\n",
            "7 X 5 = 35\n",
            "7 X 6 = 42\n",
            "7 X 7 = 49\n",
            "7 X 8 = 56\n",
            "7 X 9 = 63\n",
            "7 X 10 = 70\n"
          ],
          "name": "stdout"
        }
      ]
    },
    {
      "cell_type": "markdown",
      "metadata": {
        "id": "k1qXd6Ur-eqQ"
      },
      "source": [
        "**Built in Range Function**"
      ]
    },
    {
      "cell_type": "code",
      "metadata": {
        "id": "Ag7GpFeM-UjP",
        "outputId": "837c5f60-8aee-4950-edfe-f7b933ca55a7",
        "colab": {
          "base_uri": "https://localhost:8080/",
          "height": 34
        }
      },
      "source": [
        "for counter in range(10):\n",
        "  print(counter, end=\" \")"
      ],
      "execution_count": null,
      "outputs": [
        {
          "output_type": "stream",
          "text": [
            "0 1 2 3 4 5 6 7 8 9 "
          ],
          "name": "stdout"
        }
      ]
    },
    {
      "cell_type": "markdown",
      "metadata": {
        "id": "PRuD4YmmCMiP"
      },
      "source": [
        "*Nested For Loop*\n"
      ]
    },
    {
      "cell_type": "code",
      "metadata": {
        "id": "YR2gyY3GCHcP",
        "outputId": "3815e0d3-892c-4028-f0fe-41f3f8e367c4",
        "colab": {
          "base_uri": "https://localhost:8080/",
          "height": 153
        }
      },
      "source": [
        "n=int(input(\"Enter the number: \"))\n",
        "for left in range(n):\n",
        "    for right in range(left,n):\n",
        "        print(\"[\"+str(left)+\"|\"+str(right)+\"]\", end =\" \")\n",
        "    print()"
      ],
      "execution_count": 4,
      "outputs": [
        {
          "output_type": "stream",
          "text": [
            "Enter the number: 7\n",
            "[0|0] [0|1] [0|2] [0|3] [0|4] [0|5] [0|6] \n",
            "[1|1] [1|2] [1|3] [1|4] [1|5] [1|6] \n",
            "[2|2] [2|3] [2|4] [2|5] [2|6] \n",
            "[3|3] [3|4] [3|5] [3|6] \n",
            "[4|4] [4|5] [4|6] \n",
            "[5|5] [5|6] \n",
            "[6|6] \n"
          ],
          "name": "stdout"
        }
      ]
    },
    {
      "cell_type": "markdown",
      "metadata": {
        "id": "vFfUHE2SCzJA"
      },
      "source": [
        "**Break statement**"
      ]
    },
    {
      "cell_type": "code",
      "metadata": {
        "id": "382EUWgdCiIH",
        "outputId": "f1095f11-eab5-49b1-eabb-f74e8fadba39",
        "colab": {
          "base_uri": "https://localhost:8080/",
          "height": 51
        }
      },
      "source": [
        "n=int(input(\"Enter the number: \"))\n",
        "for number in range(n):\n",
        "  if  number==5:\n",
        "    break\n",
        "  print(number, end=\" \")\n",
        "    "
      ],
      "execution_count": 5,
      "outputs": [
        {
          "output_type": "stream",
          "text": [
            "Enter the number: 10\n",
            "0 1 2 3 4 "
          ],
          "name": "stdout"
        }
      ]
    },
    {
      "cell_type": "markdown",
      "metadata": {
        "id": "sqHMtufsDSbn"
      },
      "source": [
        "**Continue statement**"
      ]
    },
    {
      "cell_type": "code",
      "metadata": {
        "id": "85e79HleDQaJ",
        "outputId": "5b3d94ce-984a-4e73-c9ad-6f3ada387fd4",
        "colab": {
          "base_uri": "https://localhost:8080/",
          "height": 51
        }
      },
      "source": [
        "n=int(input(\"Enter the range: \"))\n",
        "for number in range(n):\n",
        "  if  number==5:\n",
        "    continue\n",
        "  print(number, end=\" \")"
      ],
      "execution_count": 6,
      "outputs": [
        {
          "output_type": "stream",
          "text": [
            "Enter the range: 10\n",
            "0 1 2 3 4 6 7 8 9 "
          ],
          "name": "stdout"
        }
      ]
    },
    {
      "cell_type": "markdown",
      "metadata": {
        "id": "mZUoiHUrKOj8"
      },
      "source": [
        "**uri problem solve** Extremely basic"
      ]
    },
    {
      "cell_type": "code",
      "metadata": {
        "id": "TJBxLa7OKM-x",
        "outputId": "ba7f142d-fb8e-4114-9187-1019ac3ccf80",
        "colab": {
          "base_uri": "https://localhost:8080/",
          "height": 68
        }
      },
      "source": [
        "m1 = int(input())\n",
        "m2 = int(input())\n",
        "x = m1 + m2\n",
        "print(\"X = %i\"% x)"
      ],
      "execution_count": 7,
      "outputs": [
        {
          "output_type": "stream",
          "text": [
            "10\n",
            "9\n",
            "X = 19\n"
          ],
          "name": "stdout"
        }
      ]
    },
    {
      "cell_type": "markdown",
      "metadata": {
        "id": "Od6Z2CdwLFik"
      },
      "source": [
        "**uri problem Area of circle**"
      ]
    },
    {
      "cell_type": "code",
      "metadata": {
        "id": "tmJtUyvWLWuk",
        "outputId": "9ce7ca30-11a9-49d2-b815-f72c0e77fe42",
        "colab": {
          "base_uri": "https://localhost:8080/",
          "height": 51
        }
      },
      "source": [
        "raio=float(input())\n",
        "\n",
        "area=(raio*raio)*3.1416\n",
        "print(\"A=%0.4f\"%area)"
      ],
      "execution_count": 9,
      "outputs": [
        {
          "output_type": "stream",
          "text": [
            "2\n",
            "A=12.5664\n"
          ],
          "name": "stdout"
        }
      ]
    },
    {
      "cell_type": "markdown",
      "metadata": {
        "id": "Wg_9iQ2aMVWa"
      },
      "source": [
        "uri problem solve**Difference**"
      ]
    },
    {
      "cell_type": "code",
      "metadata": {
        "id": "pGtjsa4iMWFo",
        "outputId": "f01ca3fb-b2da-4235-f97d-85545ab51164",
        "colab": {
          "base_uri": "https://localhost:8080/",
          "height": 102
        }
      },
      "source": [
        "m1= int(input())\n",
        "m2= int(input())\n",
        "m3= int(input())\n",
        "m4= int(input())\n",
        "\n",
        "difference=((m1 * m2) - (m3 * m4))\n",
        "\n",
        "print(\"DIFERENCA = %d\" %difference)\n"
      ],
      "execution_count": 10,
      "outputs": [
        {
          "output_type": "stream",
          "text": [
            "5\n",
            "6\n",
            "7\n",
            "8\n",
            "DIFERENCA = -26\n"
          ],
          "name": "stdout"
        }
      ]
    },
    {
      "cell_type": "markdown",
      "metadata": {
        "id": "qrsF0fLNOsnx"
      },
      "source": [
        "**Age in Days uri problem solve**"
      ]
    },
    {
      "cell_type": "code",
      "metadata": {
        "id": "-Ffk8FOZNm6n",
        "outputId": "e18066fa-dfef-46b5-e900-e7334df725ab",
        "colab": {
          "base_uri": "https://localhost:8080/",
          "height": 85
        }
      },
      "source": [
        "n= int(input())\n",
        "a = n / 365\n",
        "rA = n % 365\n",
        "rM = rA % 30\n",
        "m = rA / 30\n",
        "d = rM % 30\n",
        "print(\"{} ano(s)\".format(int(a)))\n",
        "print(\"{} mes(es)\".format(int(m)))\n",
        "print(\"{} dia(s)\".format(int(d))) "
      ],
      "execution_count": 12,
      "outputs": [
        {
          "output_type": "stream",
          "text": [
            "400\n",
            "1 ano(s)\n",
            "1 mes(es)\n",
            "5 dia(s)\n"
          ],
          "name": "stdout"
        }
      ]
    },
    {
      "cell_type": "markdown",
      "metadata": {
        "id": "v0c6CyvNO6HE"
      },
      "source": [
        "***Extrea practice***"
      ]
    },
    {
      "cell_type": "markdown",
      "metadata": {
        "id": "Xteyah5-GikM"
      },
      "source": [
        "#**User input and add two number:**"
      ]
    },
    {
      "cell_type": "code",
      "metadata": {
        "id": "7SIH7vH_Dhh1",
        "outputId": "02584340-b2ca-45fb-ea74-7e233247abac",
        "colab": {
          "base_uri": "https://localhost:8080/",
          "height": 68
        }
      },
      "source": [
        "num1=input('Enter the first number: ')\n",
        "num2=input('Enter the second number: ')\n",
        "sum=float(num1)+float(num2)\n",
        "print(\"Total sum of num1 and num2 is= \",sum)"
      ],
      "execution_count": null,
      "outputs": [
        {
          "output_type": "stream",
          "text": [
            "Enter the first number: 4\n",
            "Enter the second number: 6\n",
            "Total sum of num1 and num2 is=  10.0\n"
          ],
          "name": "stdout"
        }
      ]
    },
    {
      "cell_type": "code",
      "metadata": {
        "id": "ivMIlKlQQgys"
      },
      "source": [
        "def multiplication_or_sum(m1,m2):\n",
        "    product=m1*m2\n",
        "    if product<=1000:\n",
        "        return product\n",
        "    else:\n",
        "        return m1+m2\n",
        "    m1=20\n",
        "    m2=30\n",
        "    print(\"\\n\")\n",
        "    result= multiplication_or_sum(m1,m2)\n",
        "    print(\"The result is\",result)\n",
        "\n"
      ],
      "execution_count": null,
      "outputs": []
    },
    {
      "cell_type": "markdown",
      "metadata": {
        "id": "G5I5FysEG9AL"
      },
      "source": [
        "#**Check if number is even or odd:**"
      ]
    },
    {
      "cell_type": "code",
      "metadata": {
        "id": "FDfaVrsKHNew",
        "outputId": "8af4cd03-f57b-4461-e8e7-56706aa59177",
        "colab": {
          "base_uri": "https://localhost:8080/",
          "height": 51
        }
      },
      "source": [
        "num = int(input(\"Enter a number: \"))\n",
        "mod = num % 2\n",
        "if mod > 0:\n",
        "    print(\"This is an odd number.\")\n",
        "else:\n",
        "    print(\"This is an even number.\")"
      ],
      "execution_count": null,
      "outputs": [
        {
          "output_type": "stream",
          "text": [
            "Enter a number: 7\n",
            "This is an odd number.\n"
          ],
          "name": "stdout"
        }
      ]
    },
    {
      "cell_type": "markdown",
      "metadata": {
        "id": "AEawKoM0QkUA"
      },
      "source": [
        "#**Counts the number of even and odd numbers from a series of numbers.**"
      ]
    },
    {
      "cell_type": "code",
      "metadata": {
        "id": "_z1LTc8qQtc5",
        "outputId": "300effc2-cda0-4951-8b1b-9ca5252a8dfd",
        "colab": {
          "base_uri": "https://localhost:8080/",
          "height": 51
        }
      },
      "source": [
        "numbers = (1, 2, 3, 4, 5, 6, 7, 8, 9) \n",
        "count_odd = 0\n",
        "count_even = 0\n",
        "for x in numbers:\n",
        "        if x % 2:\n",
        "    \t     count_odd+=1\n",
        "        else:\n",
        "    \t     count_even+=1\n",
        "print(\"Number of even numbers :\",count_even)\n",
        "print(\"Number of odd numbers :\",count_odd)"
      ],
      "execution_count": null,
      "outputs": [
        {
          "output_type": "stream",
          "text": [
            "Number of even numbers : 4\n",
            "Number of odd numbers : 5\n"
          ],
          "name": "stdout"
        }
      ]
    }
  ]
}